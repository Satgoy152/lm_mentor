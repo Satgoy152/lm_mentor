{
 "cells": [
  {
   "cell_type": "code",
   "execution_count": null,
   "metadata": {},
   "outputs": [],
   "source": [
    "# Plan for frontend development:\n",
    "# 1. Create basic streamlit app\n",
    "# 2. Create user input field\n",
    "# 3. Create button to submit user input\n",
    "# 4. Create function to take user input and send to backend\n",
    "# 5. Create function to display backend response\n",
    "# 6. Student credentials"
   ]
  }
 ],
 "metadata": {
  "language_info": {
   "name": "python"
  }
 },
 "nbformat": 4,
 "nbformat_minor": 2
}
