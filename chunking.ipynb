{
 "cells": [
  {
   "cell_type": "code",
   "execution_count": 110,
   "metadata": {},
   "outputs": [
    {
     "name": "stdout",
     "output_type": "stream",
     "text": [
      "Loading PDFs\n",
      "Loaded subject mapping\n"
     ]
    }
   ],
   "source": [
    "from langchain_community.document_loaders import PyPDFLoader\n",
    "from langchain_community.document_loaders import UnstructuredMarkdownLoader\n",
    "\n",
    "\n",
    "#loading pdfs\n",
    "# old method\n",
    "print(\"Loading PDFs\")\n",
    "# print(\"Course description...\", end=\"\\r\", flush=True)\n",
    "# pdf_loader = PyPDFLoader(\"rag_data/Umich_FA2024_course_description.pdf\")\n",
    "# course_description_text = pdf_loader.load()\n",
    "# print(\"Loaded course description\")\n",
    "# print(\"Degree requirements...\", end=\"\\r\", flush=True)\n",
    "# pdf_loader = PyPDFLoader(\"rag_data/Umich_FA2024_LSA_degree_requ.pdf\")\n",
    "# degree_requirements_text = pdf_loader.load()\n",
    "# print(\"Loaded degree requirements\")\n",
    "# print(\"Major minor description...\", end=\"\\r\", flush=True)\n",
    "# pdf_loader = PyPDFLoader(\"rag_data/Umich_FA2024_major_minor_description.pdf\")\n",
    "# major_minor_description_text = pdf_loader.load()\n",
    "# print(\"Loaded major minor description\")\n",
    "\n",
    "# print(\"Subject mapping...\", end=\"\\r\", flush=True)\n",
    "# pdf_loader = PyPDFLoader(\"rag_data/Umich_FA2024_subject_mapping.pdf\")\n",
    "# subject_mapping_text = pdf_loader.load()\n",
    "# print(\"Loaded subject mapping\")"
   ]
  },
  {
   "cell_type": "code",
   "execution_count": null,
   "metadata": {},
   "outputs": [],
   "source": [
    "from langchain_community.document_loaders import UnstructuredMarkdownLoader\n",
    "\n",
    "loader = UnstructuredMarkdownLoader(\"rag_data/Umich_FA2024_course_description.md\", mode=\"elements\")\n",
    "course_description_text = loader.load()"
   ]
  },
  {
   "cell_type": "code",
   "execution_count": 97,
   "metadata": {},
   "outputs": [
    {
     "name": "stderr",
     "output_type": "stream",
     "text": [
      "/var/folders/5t/bmhkrbcn4yzgbdrrgwk7ps_r0000gn/T/ipykernel_4111/1982332408.py:16: FutureWarning: DataFrame.applymap has been deprecated. Use DataFrame.map instead.\n",
      "  dfs = [df.applymap(lambda x: str(x) + \" | \") for df in dfs]\n"
     ]
    }
   ],
   "source": [
    "from langchain_community.document_loaders import UnstructuredMarkdownLoader\n",
    "from langchain_community.document_loaders import DataFrameLoader\n",
    "import pandas as pd\n",
    "import numpy as np\n",
    "\n",
    "df = pd.read_csv(\"rag_data/Umich_FA2024_course_schedule.csv\")\n",
    "# combind Subject\tCatalog Nbr\n",
    "df[\"Class Identifier\"] = df[\"Subject\"] + \" \" + df[\"Catalog Nbr\"]\n",
    "# create a list of dfs for each unique class identifier\n",
    "dfs = [df[df[\"Class Identifier\"] == class_identifier] for class_identifier in df[\"Class Identifier\"].unique()]\n",
    "# move 'Class Identifier' column to the front of each df\n",
    "dfs = [pd.concat([df[\"Class Identifier\"], df.drop(columns=[\"Class Identifier\"])], axis=1) for df in dfs]\n",
    "# drop  Subject\tCatalog Nbr columns from each df\n",
    "dfs = [df.drop(columns=[\"Subject\", \"Catalog Nbr\"]) for df in dfs]\n",
    "# drop 'Unnamed: 23' column from each df\n",
    "dfs = [df.drop(columns=[\"Unnamed: 23\"]) for df in dfs]\n",
    "# add | between elements in each row of each df\n",
    "dfs = [df.applymap(lambda x: str(x) + \" | \") for df in dfs]"
   ]
  },
  {
   "cell_type": "code",
   "execution_count": 98,
   "metadata": {},
   "outputs": [
    {
     "data": {
      "text/plain": [
       "6620"
      ]
     },
     "execution_count": 98,
     "metadata": {},
     "output_type": "execute_result"
    }
   ],
   "source": [
    "len(dfs)"
   ]
  },
  {
   "cell_type": "code",
   "execution_count": 102,
   "metadata": {},
   "outputs": [],
   "source": [
    "from langchain_core.documents.base import Document\n",
    "\n",
    "course_schedule_text = []\n",
    "for df in dfs:\n",
    "    doc = Document(page_content=df.to_string(index=False, header=False), metadata={\"source\": \"rag_data/Umich_FA2024_course_schedule.csv\"})\n",
    "    course_schedule_text.append(doc)"
   ]
  },
  {
   "cell_type": "code",
   "execution_count": 103,
   "metadata": {},
   "outputs": [
    {
     "data": {
      "text/plain": [
       "730"
      ]
     },
     "execution_count": 103,
     "metadata": {},
     "output_type": "execute_result"
    }
   ],
   "source": []
  },
  {
   "cell_type": "code",
   "execution_count": 112,
   "metadata": {},
   "outputs": [],
   "source": [
    "# remove documents with over 30000 characters\n",
    "course_schedule_text = [doc for doc in course_schedule_text if len(doc.page_content) < 4000]"
   ]
  },
  {
   "cell_type": "code",
   "execution_count": 113,
   "metadata": {},
   "outputs": [
    {
     "data": {
      "text/plain": [
       "6367"
      ]
     },
     "execution_count": 113,
     "metadata": {},
     "output_type": "execute_result"
    }
   ],
   "source": [
    "len(course_schedule_text)"
   ]
  },
  {
   "cell_type": "code",
   "execution_count": 109,
   "metadata": {},
   "outputs": [
    {
     "data": {
      "text/plain": [
       "2327"
      ]
     },
     "execution_count": 109,
     "metadata": {},
     "output_type": "execute_result"
    }
   ],
   "source": [
    "#find index of document with the most content\n",
    "max_content = 0\n",
    "max_index = 0\n",
    "for i, doc in enumerate(course_schedule_text):\n",
    "    if len(doc.page_content) > max_content:\n",
    "        max_content = len(doc.page_content)\n",
    "        max_index = i\n",
    "max_index"
   ]
  },
  {
   "cell_type": "code",
   "execution_count": 111,
   "metadata": {},
   "outputs": [
    {
     "name": "stdout",
     "output_type": "stream",
     "text": [
      "Fall 2024 |  Regular Academic Session |  Literature, Sci, and the Arts |  11055 |   1 |  Writing&Academic Inq |  REC |  P    |  nan |    T |  nan |   TH |  nan |  nan |  nan |  08/26/2024 |  12/09/2024 |   830-10AM |       B830 EQ |        Liberti |  4.00 |  English Language And Literature (ENGLISH)  125 | \n",
      "Fall 2024 |  Regular Academic Session |  Literature, Sci, and the Arts |  11056 |   2 |  Writing&Academic Inq |  REC |  P  W |    M |  nan |    W |  nan |    F |  nan |  nan |  08/26/2024 |  12/09/2024 |      8-9AM |       2163 AH |           Wall |  4.00 |  English Language And Literature (ENGLISH)  125 | \n",
      "Fall 2024 |  Regular Academic Session |  Literature, Sci, and the Arts |  11057 |   3 |  Writing&Academic Inq |  REC |  P  W |    M |  nan |    W |  nan |  nan |  nan |  nan |  08/26/2024 |  12/09/2024 |    4-530PM |       1512 EQ |           Boyd |  4.00 |  English Language And Literature (ENGLISH)  125 | \n",
      "Fall 2024 |  Regular Academic Session |  Literature, Sci, and the Arts |  11058 |   4 |  Writing&Academic Inq |  REC |  P    |    M |  nan |    W |  nan |    F |  nan |  nan |  08/26/2024 |  12/09/2024 |     9-10AM |       G437 MH |           Wall |  4.00 |  English Language And Literature (ENGLISH)  125 | \n",
      "Fall 2024 |  Regular Academic Session |  Literature, Sci, and the Arts |  15212 |   5 |  Writing&Academic Inq |  REC |  P  W |    M |  nan |    W |  nan |    F |  nan |  nan |  08/26/2024 |  12/09/2024 |      1-2PM |       G232 AH |     Anderfuren |  4.00 |  English Language And Literature (ENGLISH)  125 | \n",
      "Fall 2024 |  Regular Academic Session |  Literature, Sci, and the Arts |  11059 |   6 |  Writing&Academic Inq |  REC |  P  W |    M |  nan |    W |  nan |    F |  nan |  nan |  08/26/2024 |  12/09/2024 |     9-10AM |       3333 MH |  Vandenbossche |  4.00 |  English Language And Literature (ENGLISH)  125 | \n",
      "Fall 2024 |  Regular Academic Session |  Literature, Sci, and the Arts |  11060 |   7 |  Writing&Academic Inq |  REC |  P  W |    M |  nan |    W |  nan |    F |  nan |  nan |  08/26/2024 |  12/09/2024 |     12-1PM |      2150 SKB |  Vandenbossche |  4.00 |  English Language And Literature (ENGLISH)  125 | \n",
      "Fall 2024 |  Regular Academic Session |  Literature, Sci, and the Arts |  11061 |   8 |  Writing&Academic Inq |  REC |  P    |    M |  nan |    W |  nan |    F |  nan |  nan |  08/26/2024 |  12/09/2024 |      2-3PM |       2866 EH |     Anderfuren |  4.00 |  English Language And Literature (ENGLISH)  125 | \n",
      "Fall 2024 |  Regular Academic Session |  Literature, Sci, and the Arts |  11062 |   9 |  Writing&Academic Inq |  REC |  P    |    M |  nan |    W |  nan |  nan |  nan |  nan |  08/26/2024 |  12/09/2024 |   830-10AM |      1505 NUB |       Anderson |  4.00 |  English Language And Literature (ENGLISH)  125 | \n",
      "Fall 2024 |  Regular Academic Session |  Literature, Sci, and the Arts |  11063 |  10 |  Writing&Academic Inq |  REC |  P  W |  nan |    T |  nan |   TH |  nan |  nan |  nan |  08/26/2024 |  12/09/2024 |    530-7PM |       G449 MH |    Al-Samarrai |  4.00 |  English Language And Literature (ENGLISH)  125 | \n",
      "Fall 2024 |  Regular Academic Session |  Literature, Sci, and the Arts |  11064 |  11 |  Writing&Academic Inq |  REC |  P  W |  nan |    T |  nan |   TH |  nan |  nan |  nan |  08/26/2024 |  12/09/2024 |   830-10AM |      5180B AH |      Steinorth |  4.00 |  English Language And Literature (ENGLISH)  125 | \n",
      "Fall 2024 |  Regular Academic Session |  Literature, Sci, and the Arts |  11065 |  12 |  Writing&Academic Inq |  REC |  P  W |  nan |    T |  nan |   TH |  nan |  nan |  nan |  08/26/2024 |  12/09/2024 |    4-530PM |       3460 MH |        Francis |  4.00 |  English Language And Literature (ENGLISH)  125 | \n",
      "Fall 2024 |  Regular Academic Session |  Literature, Sci, and the Arts |  11066 |  13 |  Writing&Academic Inq |  REC |  P R  |  nan |    T |  nan |   TH |  nan |  nan |  nan |  08/26/2024 |  12/09/2024 |  10-1130AM |      G421B MH |         Jacoby |  4.00 |  English Language And Literature (ENGLISH)  125 | \n",
      "Fall 2024 |  Regular Academic Session |  Literature, Sci, and the Arts |  11067 |  14 |  Writing&Academic Inq |  REC |  P  W |    M |  nan |    W |  nan |  nan |  nan |  nan |  08/26/2024 |  12/09/2024 |    4-530PM |       3448 MH |          Zeman |  4.00 |  English Language And Literature (ENGLISH)  125 | \n",
      "Fall 2024 |  Regular Academic Session |  Literature, Sci, and the Arts |  11068 |  15 |  Writing&Academic Inq |  REC |  P  W |  nan |    T |  nan |   TH |  nan |  nan |  nan |  08/26/2024 |  12/09/2024 |    230-4PM |      2328 SEB |        Hietala |  4.00 |  English Language And Literature (ENGLISH)  125 | \n",
      "Fall 2024 |  Regular Academic Session |  Literature, Sci, and the Arts |  11069 |  16 |  Writing&Academic Inq |  REC |  P  W |  nan |    T |  nan |   TH |  nan |  nan |  nan |  08/26/2024 |  12/09/2024 |   830-10AM |      3540 NUB |          Harms |  4.00 |  English Language And Literature (ENGLISH)  125 | \n",
      "Fall 2024 |  Regular Academic Session |  Literature, Sci, and the Arts |  11070 |  17 |  Writing&Academic Inq |  REC |  P    |  nan |    T |  nan |   TH |  nan |  nan |  nan |  08/26/2024 |  12/09/2024 |   1130-1PM |       3353 MH |           Bush |  4.00 |  English Language And Literature (ENGLISH)  125 | \n",
      "Fall 2024 |  Regular Academic Session |  Literature, Sci, and the Arts |  11071 |  18 |  Writing&Academic Inq |  REC |  P R  |    M |  nan |    W |  nan |  nan |  nan |  nan |  08/26/2024 |  12/09/2024 |   1130-1PM |        120 WH |         Holden |  4.00 |  English Language And Literature (ENGLISH)  125 | \n",
      "Fall 2024 |  Regular Academic Session |  Literature, Sci, and the Arts |  11072 |  19 |  Writing&Academic Inq |  REC |  P  W |  nan |    T |  nan |   TH |  nan |  nan |  nan |  08/26/2024 |  12/09/2024 |   1130-1PM |     1170 SPH2 |            nan |  4.00 |  English Language And Literature (ENGLISH)  125 | \n",
      "Fall 2024 |  Regular Academic Session |  Literature, Sci, and the Arts |  11073 |  20 |  Writing&Academic Inq |  REC |  P  W |  nan |    T |  nan |   TH |  nan |  nan |  nan |  08/26/2024 |  12/09/2024 |    230-4PM |        210 WH |          Berry |  4.00 |  English Language And Literature (ENGLISH)  125 | \n",
      "Fall 2024 |  Regular Academic Session |  Literature, Sci, and the Arts |  15213 |  21 |  Writing&Academic Inq |  REC |  P    |  nan |    T |  nan |   TH |  nan |  nan |  nan |  08/26/2024 |  12/09/2024 |    4-530PM |       3411 MH |        Holland |  4.00 |  English Language And Literature (ENGLISH)  125 | \n",
      "Fall 2024 |  Regular Academic Session |  Literature, Sci, and the Arts |  11074 |  22 |  Writing&Academic Inq |  REC |  P  W |    M |  nan |    W |  nan |  nan |  nan |  nan |  08/26/2024 |  12/09/2024 |   830-10AM |     471 LORCH |         Walker |  4.00 |  English Language And Literature (ENGLISH)  125 | \n",
      "Fall 2024 |  Regular Academic Session |  Literature, Sci, and the Arts |  11075 |  23 |  Writing&Academic Inq |  REC |  P  W |    M |  nan |    W |  nan |  nan |  nan |  nan |  08/26/2024 |  12/09/2024 |    7-830PM |       2347 MH |          Zeman |  4.00 |  English Language And Literature (ENGLISH)  125 | \n",
      "Fall 2024 |  Regular Academic Session |  Literature, Sci, and the Arts |  11076 |  24 |  Writing&Academic Inq |  REC |  P  W |    M |  nan |    W |  nan |    F |  nan |  nan |  08/26/2024 |  12/09/2024 |    11-12PM |       3451 MH |       Bardolph |  4.00 |  English Language And Literature (ENGLISH)  125 | \n",
      "Fall 2024 |  Regular Academic Session |  Literature, Sci, and the Arts |  11077 |  25 |  Writing&Academic Inq |  REC |  P  W |  nan |    T |  nan |   TH |  nan |  nan |  nan |  08/26/2024 |  12/09/2024 |   830-10AM |       B834 EQ |        McCarty |  4.00 |  English Language And Literature (ENGLISH)  125 | \n",
      "Fall 2024 |  Regular Academic Session |  Literature, Sci, and the Arts |  11078 |  26 |  Writing&Academic Inq |  REC |  P R  |  nan |    T |  nan |   TH |  nan |  nan |  nan |  08/26/2024 |  12/09/2024 |   830-10AM |      1507 NUB |      Rodriguez |  4.00 |  English Language And Literature (ENGLISH)  125 | \n",
      "Fall 2024 |  Regular Academic Session |  Literature, Sci, and the Arts |  11079 |  27 |  Writing&Academic Inq |  REC |  P  W |    M |  nan |    W |  nan |  nan |  nan |  nan |  08/26/2024 |  12/09/2024 |    230-4PM |     1804 SSWB |          Huang |  4.00 |  English Language And Literature (ENGLISH)  125 | \n",
      "Fall 2024 |  Regular Academic Session |  Literature, Sci, and the Arts |  11080 |  28 |  Writing&Academic Inq |  REC |  P R  |  nan |    T |  nan |   TH |  nan |  nan |  nan |  08/26/2024 |  12/09/2024 |   830-10AM |       3088 EH |           Baci |  4.00 |  English Language And Literature (ENGLISH)  125 | \n",
      "Fall 2024 |  Regular Academic Session |  Literature, Sci, and the Arts |  11081 |  29 |  Writing&Academic Inq |  REC |  P    |    M |  nan |    W |  nan |  nan |  nan |  nan |  08/26/2024 |  12/09/2024 |    4-530PM |       3302 MH |        Griffin |  4.00 |  English Language And Literature (ENGLISH)  125 | \n",
      "Fall 2024 |  Regular Academic Session |  Literature, Sci, and the Arts |  11082 |  30 |  Writing&Academic Inq |  REC |  P  W |    M |  nan |    W |  nan |    F |  nan |  nan |  08/26/2024 |  12/09/2024 |    11-12PM |       B830 EQ |           Wall |  4.00 |  English Language And Literature (ENGLISH)  125 | \n",
      "Fall 2024 |  Regular Academic Session |  Literature, Sci, and the Arts |  11083 |  31 |  Writing&Academic Inq |  REC |  P R  |    M |  nan |    W |  nan |  nan |  nan |  nan |  08/26/2024 |  12/09/2024 |    1-230PM |       1339 MH |        Puckett |  4.00 |  English Language And Literature (ENGLISH)  125 | \n",
      "Fall 2024 |  Regular Academic Session |  Literature, Sci, and the Arts |  11084 |  32 |  Writing&Academic Inq |  REC |  P R  |    M |  nan |    W |  nan |  nan |  nan |  nan |  08/26/2024 |  12/09/2024 |  10-1130AM |  1413 COUZENS |     McLaughlin |  4.00 |  English Language And Literature (ENGLISH)  125 | \n",
      "Fall 2024 |  Regular Academic Session |  Literature, Sci, and the Arts |  11085 |  33 |  Writing&Academic Inq |  REC |  P  W |    M |  nan |    W |  nan |  nan |  nan |  nan |  08/26/2024 |  12/09/2024 |  10-1130AM |     4318 SPH2 |          Smith |  4.00 |  English Language And Literature (ENGLISH)  125 | \n",
      "Fall 2024 |  Regular Academic Session |  Literature, Sci, and the Arts |  11086 |  34 |  Writing&Academic Inq |  REC |  P  W |    M |  nan |    W |  nan |  nan |  nan |  nan |  08/26/2024 |  12/09/2024 |   830-10AM |       3866 EH |           Hahn |  4.00 |  English Language And Literature (ENGLISH)  125 | \n",
      "Fall 2024 |  Regular Academic Session |  Literature, Sci, and the Arts |  11087 |  35 |  Writing&Academic Inq |  REC |  P  W |    M |  nan |    W |  nan |  nan |  nan |  nan |  08/26/2024 |  12/09/2024 |  10-1130AM |           ARR |            Hsu |  4.00 |  English Language And Literature (ENGLISH)  125 | \n",
      "Fall 2024 |  Regular Academic Session |  Literature, Sci, and the Arts |  11088 |  36 |  Writing&Academic Inq |  REC |  P  W |    M |  nan |    W |  nan |  nan |  nan |  nan |  08/26/2024 |  12/09/2024 |    1-230PM |     1804 SSWB |        Maxwell |  4.00 |  English Language And Literature (ENGLISH)  125 | \n",
      "Fall 2024 |  Regular Academic Session |  Literature, Sci, and the Arts |  11089 |  37 |  Writing&Academic Inq |  REC |  P  W |    M |  nan |    W |  nan |  nan |  nan |  nan |  08/26/2024 |  12/09/2024 |   1130-1PM |      2520 NUB |       Rafferty |  4.00 |  English Language And Literature (ENGLISH)  125 | \n",
      "Fall 2024 |  Regular Academic Session |  Literature, Sci, and the Arts |  15215 |  38 |  Writing&Academic Inq |  REC |  P  W |    M |  nan |    W |  nan |  nan |  nan |  nan |  08/26/2024 |  12/09/2024 |  10-1130AM |           ARR |       Rosarius |  4.00 |  English Language And Literature (ENGLISH)  125 | \n",
      "Fall 2024 |  Regular Academic Session |  Literature, Sci, and the Arts |  11090 |  39 |  Writing&Academic Inq |  REC |  P  W |    M |  nan |    W |  nan |  nan |  nan |  nan |  08/26/2024 |  12/09/2024 |    4-530PM |       3460 MH |          Burch |  4.00 |  English Language And Literature (ENGLISH)  125 | \n",
      "Fall 2024 |  Regular Academic Session |  Literature, Sci, and the Arts |  11091 |  40 |  Writing&Academic Inq |  REC |  P  W |    M |  nan |    W |  nan |  nan |  nan |  nan |  08/26/2024 |  12/09/2024 |   830-10AM |     171 LORCH |        Carlson |  4.00 |  English Language And Literature (ENGLISH)  125 | \n",
      "Fall 2024 |  Regular Academic Session |  Literature, Sci, and the Arts |  11092 |  41 |  Writing&Academic Inq |  REC |  P  W |    M |  nan |    W |  nan |  nan |  nan |  nan |  08/26/2024 |  12/09/2024 |    1-230PM |      2504 NUB |            Hsi |  4.00 |  English Language And Literature (ENGLISH)  125 | \n",
      "Fall 2024 |  Regular Academic Session |  Literature, Sci, and the Arts |  11093 |  42 |  Writing&Academic Inq |  REC |  P  W |    M |  nan |    W |  nan |  nan |  nan |  nan |  08/26/2024 |  12/09/2024 |    1-230PM |       1245 NQ |      Chappelow |  4.00 |  English Language And Literature (ENGLISH)  125 | \n",
      "Fall 2024 |  Regular Academic Session |  Literature, Sci, and the Arts |  11094 |  43 |  Writing&Academic Inq |  REC |  P  W |  nan |    T |  nan |   TH |  nan |  nan |  nan |  08/26/2024 |  12/09/2024 |    1-230PM |      3540 NUB |         Hawkes |  4.00 |  English Language And Literature (ENGLISH)  125 | \n",
      "Fall 2024 |  Regular Academic Session |  Literature, Sci, and the Arts |  11095 |  44 |  Writing&Academic Inq |  REC |  P  W |  nan |    T |  nan |   TH |  nan |  nan |  nan |  08/26/2024 |  12/09/2024 |    1-230PM |       180 TAP |        Geoghan |  4.00 |  English Language And Literature (ENGLISH)  125 | \n",
      "Fall 2024 |  Regular Academic Session |  Literature, Sci, and the Arts |  15216 |  45 |  Writing&Academic Inq |  REC |  P    |    M |  nan |    W |  nan |  nan |  nan |  nan |  08/26/2024 |  12/09/2024 |   1130-1PM |      1505 NUB |    Omprasadham |  4.00 |  English Language And Literature (ENGLISH)  125 | \n",
      "Fall 2024 |  Regular Academic Session |  Literature, Sci, and the Arts |  11096 |  46 |  Writing&Academic Inq |  REC |  P  W |    M |  nan |    W |  nan |  nan |  nan |  nan |  08/26/2024 |  12/09/2024 |    4-530PM |       2455 MH |      Steinorth |  4.00 |  English Language And Literature (ENGLISH)  125 | \n",
      "Fall 2024 |  Regular Academic Session |  Literature, Sci, and the Arts |  15214 |  47 |  Writing&Academic Inq |  REC |  P R  |    M |  nan |    W |  nan |  nan |  nan |  nan |  08/26/2024 |  12/09/2024 |    530-7PM |       G023 WQ |      Christman |  4.00 |  English Language And Literature (ENGLISH)  125 | \n",
      "Fall 2024 |  Regular Academic Session |  Literature, Sci, and the Arts |  11097 |  48 |  Writing&Academic Inq |  REC |  P  W |  nan |    T |  nan |   TH |  nan |  nan |  nan |  08/26/2024 |  12/09/2024 |   1130-1PM |       G634 HH |        Rossini |  4.00 |  English Language And Literature (ENGLISH)  125 | \n",
      "Fall 2024 |  Regular Academic Session |  Literature, Sci, and the Arts |  15653 |  49 |  Writing&Academic Inq |  REC |  P  W |    M |  nan |    W |  nan |    F |  nan |  nan |  08/26/2024 |  12/09/2024 |    10-11AM |           ARR |  Vandenbossche |  4.00 |  English Language And Literature (ENGLISH)  125 | \n",
      "Fall 2024 |  Regular Academic Session |  Literature, Sci, and the Arts |  11098 |  50 |  Writing&Academic Inq |  REC |  P  W |  nan |    T |  nan |   TH |  nan |  nan |  nan |  08/26/2024 |  12/09/2024 |    230-4PM |      2520 NUB |         Ghosal |  4.00 |  English Language And Literature (ENGLISH)  125 | \n",
      "Fall 2024 |  Regular Academic Session |  Literature, Sci, and the Arts |  11099 |  51 |  Writing&Academic Inq |  REC |  P    |    M |  nan |    W |  nan |    F |  nan |  nan |  08/26/2024 |  12/09/2024 |    10-11AM |           ARR |           Gwin |  4.00 |  English Language And Literature (ENGLISH)  125 | \n",
      "Fall 2024 |  Regular Academic Session |  Literature, Sci, and the Arts |  11100 |  52 |  Writing&Academic Inq |  REC |  P  W |    M |  nan |    W |  nan |    F |  nan |  nan |  08/26/2024 |  12/09/2024 |     12-1PM |       G634 HH |           Gwin |  4.00 |  English Language And Literature (ENGLISH)  125 | \n",
      "Fall 2024 |  Regular Academic Session |  Literature, Sci, and the Arts |  11101 |  53 |  Writing&Academic Inq |  REC |  P RW |  nan |    T |  nan |   TH |  nan |  nan |  nan |  08/26/2024 |  12/09/2024 |  10-1130AM |       130 TAP |          Allen |  4.00 |  English Language And Literature (ENGLISH)  125 | \n",
      "Fall 2024 |  Regular Academic Session |  Literature, Sci, and the Arts |  11102 |  54 |  Writing&Academic Inq |  REC |  P RW |  nan |    T |  nan |   TH |  nan |  nan |  nan |  08/26/2024 |  12/09/2024 |    1-230PM |      2328 SEB |          Allen |  4.00 |  English Language And Literature (ENGLISH)  125 | \n",
      "Fall 2024 |  Regular Academic Session |  Literature, Sci, and the Arts |  11103 |  55 |  Writing&Academic Inq |  REC |  P RW |    M |  nan |    W |  nan |  nan |  nan |  nan |  08/26/2024 |  12/09/2024 |   830-10AM |     373 LORCH |        Cordell |  4.00 |  English Language And Literature (ENGLISH)  125 | \n",
      "Fall 2024 |  Regular Academic Session |  Literature, Sci, and the Arts |  11104 |  56 |  Writing&Academic Inq |  REC |  P RW |    M |  nan |    W |  nan |  nan |  nan |  nan |  08/26/2024 |  12/09/2024 |   1130-1PM |     4404 RAND |        Beydoun |  4.00 |  English Language And Literature (ENGLISH)  125 | \n",
      "Fall 2024 |  Regular Academic Session |  Literature, Sci, and the Arts |  11105 |  57 |  Writing&Academic Inq |  REC |  P RW |    M |  nan |    W |  nan |    F |  nan |  nan |  08/26/2024 |  12/09/2024 |    10-11AM |      2200 SKB |        Tessier |  4.00 |  English Language And Literature (ENGLISH)  125 | \n",
      "Fall 2024 |  Regular Academic Session |  Literature, Sci, and the Arts |  11106 |  58 |  Writing&Academic Inq |  REC |  P RW |    M |  nan |    W |  nan |    F |  nan |  nan |  08/26/2024 |  12/09/2024 |     12-1PM |       1507 EQ |        Tessier |  4.00 |  English Language And Literature (ENGLISH)  125 | \n",
      "Fall 2024 |  Regular Academic Session |  Literature, Sci, and the Arts |  11107 |  59 |  Writing&Academic Inq |  REC |  P RW |    M |  nan |    W |  nan |  nan |  nan |  nan |  08/26/2024 |  12/09/2024 |    1-230PM |    G026 TISCH |        Beydoun |  4.00 |  English Language And Literature (ENGLISH)  125 | \n",
      "Fall 2024 |  Regular Academic Session |  Literature, Sci, and the Arts |  11108 |  60 |  Writing&Academic Inq |  REC |  P RW |    M |  nan |    W |  nan |  nan |  nan |  nan |  08/26/2024 |  12/09/2024 |    230-4PM |       2336 MH |        Tessier |  4.00 |  English Language And Literature (ENGLISH)  125 | \n",
      "Fall 2024 |  Regular Academic Session |  Literature, Sci, and the Arts |  11109 |  61 |  Writing&Academic Inq |  REC |  P RW |  nan |    T |  nan |   TH |  nan |  nan |  nan |  08/26/2024 |  12/09/2024 |   830-10AM |       3021 EH |          Traig |  4.00 |  English Language And Literature (ENGLISH)  125 | \n",
      "Fall 2024 |  Regular Academic Session |  Literature, Sci, and the Arts |  11110 |  62 |  Writing&Academic Inq |  REC |  P RW |  nan |    T |  nan |   TH |  nan |  nan |  nan |  08/26/2024 |  12/09/2024 |    4-530PM |       G449 MH |          Traig |  4.00 |  English Language And Literature (ENGLISH)  125 | \n",
      "Fall 2024 |  Regular Academic Session |  Literature, Sci, and the Arts |  11111 |  63 |  Writing&Academic Inq |  REC |  P    |    M |  nan |    W |  nan |  nan |  nan |  nan |  08/26/2024 |  12/09/2024 |    1-230PM |       1505 EQ |           Hahn |  4.00 |  English Language And Literature (ENGLISH)  125 | \n",
      "Fall 2024 |  Regular Academic Session |  Literature, Sci, and the Arts |  11112 |  64 |  Writing&Academic Inq |  REC |  P  W |    M |  nan |    W |  nan |  nan |  nan |  nan |  08/26/2024 |  12/09/2024 |    4-530PM |      2504 NUB |            nan |  4.00 |  English Language And Literature (ENGLISH)  125 | \n",
      "Fall 2024 |  Regular Academic Session |  Literature, Sci, and the Arts |  11113 |  65 |  Writing&Academic Inq |  REC |  P    |  nan |    T |  nan |   TH |  nan |  nan |  nan |  08/26/2024 |  12/09/2024 |  10-1130AM |     1170 SPH2 |          Perry |  4.00 |  English Language And Literature (ENGLISH)  125 | \n",
      "Fall 2024 |  Regular Academic Session |  Literature, Sci, and the Arts |  11114 |  66 |  Writing&Academic Inq |  REC |  P  W |  nan |    T |  nan |   TH |  nan |  nan |  nan |  08/26/2024 |  12/09/2024 |    1-230PM |      3242 LSA |        DiCarlo |  4.00 |  English Language And Literature (ENGLISH)  125 | \n",
      "Fall 2024 |  Regular Academic Session |  Literature, Sci, and the Arts |  11115 |  67 |  Writing&Academic Inq |  REC |  P  W |  nan |    T |  nan |   TH |  nan |  nan |  nan |  08/26/2024 |  12/09/2024 |    7-830PM |       2347 MH |          Kelly |  4.00 |  English Language And Literature (ENGLISH)  125 | \n",
      "Fall 2024 |  Regular Academic Session |  Literature, Sci, and the Arts |  11116 |  68 |  Writing&Academic Inq |  REC |  P  W |  nan |    T |  nan |   TH |  nan |  nan |  nan |  08/26/2024 |  12/09/2024 |    530-7PM |       2437 MH |        Holland |  4.00 |  English Language And Literature (ENGLISH)  125 | \n",
      "Fall 2024 |  Regular Academic Session |  Literature, Sci, and the Arts |  15676 |  69 |  Writing&Academic Inq |  REC |  P  W |  nan |    T |  nan |   TH |  nan |  nan |  nan |  08/26/2024 |  12/09/2024 |    4-530PM |       3427 MH |         Walker |  4.00 |  English Language And Literature (ENGLISH)  125 | \n",
      "Fall 2024 |  Regular Academic Session |  Literature, Sci, and the Arts |  15677 |  70 |  Writing&Academic Inq |  REC |  P  W |    M |  nan |    W |  nan |  nan |  nan |  nan |  08/26/2024 |  12/09/2024 |    230-4PM |     1122 SPH2 |          Moody |  4.00 |  English Language And Literature (ENGLISH)  125 | \n",
      "Fall 2024 |  Regular Academic Session |  Literature, Sci, and the Arts |  15697 |  71 |  Writing&Academic Inq |  REC |  P  W |    M |  nan |    W |  nan |  nan |  nan |  nan |  08/26/2024 |  12/09/2024 |   830-10AM |     4404 RAND |            nan |  4.00 |  English Language And Literature (ENGLISH)  125 | \n",
      "Fall 2024 |  Regular Academic Session |  Literature, Sci, and the Arts |  15707 |  72 |  Writing&Academic Inq |  REC |  P  W |    M |  nan |    W |  nan |  nan |  nan |  nan |  08/26/2024 |  12/09/2024 |  10-1130AM |           ARR |     Barricklow |  4.00 |  English Language And Literature (ENGLISH)  125 | \n",
      "Fall 2024 |  Regular Academic Session |  Literature, Sci, and the Arts |  15708 |  73 |  Writing&Academic Inq |  REC |  P  W |    M |  nan |    W |  nan |  nan |  nan |  nan |  08/26/2024 |  12/09/2024 |   1130-1PM |       1469 MH |     Mittelbach |  4.00 |  English Language And Literature (ENGLISH)  125 | \n",
      "Fall 2024 |  Regular Academic Session |  Literature, Sci, and the Arts |  15709 |  74 |  Writing&Academic Inq |  REC |  P  W |  nan |    T |  nan |   TH |  nan |  nan |  nan |  08/26/2024 |  12/09/2024 |   1130-1PM |       1511 EQ |          Harms |  4.00 |  English Language And Literature (ENGLISH)  125 | \n",
      "Fall 2024 |  Regular Academic Session |  Literature, Sci, and the Arts |  15710 |  75 |  Writing&Academic Inq |  REC |  P  W |    M |  nan |    W |  nan |  nan |  nan |  nan |  08/26/2024 |  12/09/2024 |    230-4PM |     G020 SPH2 |         Strout |  4.00 |  English Language And Literature (ENGLISH)  125 | \n",
      "Fall 2024 |  Regular Academic Session |  Literature, Sci, and the Arts |  15711 |  76 |  Writing&Academic Inq |  REC |  P  W |  nan |    T |  nan |   TH |  nan |  nan |  nan |  08/26/2024 |  12/09/2024 |    230-4PM |      2334 SEB |         Porter |  4.00 |  English Language And Literature (ENGLISH)  125 | \n",
      "Fall 2024 |  Regular Academic Session |  Literature, Sci, and the Arts |  16437 |  77 |  Writing&Academic Inq |  REC |  P  W |    M |  nan |    W |  nan |    F |  nan |  nan |  08/26/2024 |  12/09/2024 |     9-10AM |       3302 MH |       Bardolph |  4.00 |  English Language And Literature (ENGLISH)  125 | \n",
      "Fall 2024 |  Regular Academic Session |  Literature, Sci, and the Arts |  16438 |  78 |  Writing&Academic Inq |  REC |  P  W |    M |  nan |    W |  nan |  nan |  nan |  nan |  08/26/2024 |  12/09/2024 |    230-4PM |       G634 HH |           Voss |  4.00 |  English Language And Literature (ENGLISH)  125 | \n",
      "Fall 2024 |  Regular Academic Session |  Literature, Sci, and the Arts |  16439 |  79 |  Writing&Academic Inq |  REC |  P R  |    M |  nan |    W |  nan |  nan |  nan |  nan |  08/26/2024 |  12/09/2024 |    4-530PM |       G023 WQ |      Christman |  4.00 |  English Language And Literature (ENGLISH)  125 | \n",
      "Fall 2024 |  Regular Academic Session |  Literature, Sci, and the Arts |  16440 |  80 |  Writing&Academic Inq |  REC |  P    |    M |  nan |    W |  nan |  nan |  nan |  nan |  08/26/2024 |  12/09/2024 |    230-4PM |       1511 EQ |        Carlson |  4.00 |  English Language And Literature (ENGLISH)  125 | \n",
      "Fall 2024 |  Regular Academic Session |  Literature, Sci, and the Arts |  16441 |  81 |  Writing&Academic Inq |  REC |  P  W |  nan |    T |  nan |   TH |  nan |  nan |  nan |  08/26/2024 |  12/09/2024 |  10-1130AM |      3540 NUB |       Sullivan |  4.00 |  English Language And Literature (ENGLISH)  125 | \n",
      "Fall 2024 |  Regular Academic Session |  Literature, Sci, and the Arts |  16442 |  82 |  Writing&Academic Inq |  REC |  P    |  nan |    T |  nan |   TH |  nan |  nan |  nan |  08/26/2024 |  12/09/2024 |    1-230PM |     4318 SPH2 |         Buxton |  4.00 |  English Language And Literature (ENGLISH)  125 | \n",
      "Fall 2024 |  Regular Academic Session |  Literature, Sci, and the Arts |  18382 |  83 |  Writing&Academic Inq |  REC |  P  W |    M |  nan |    W |  nan |  nan |  nan |  nan |  08/26/2024 |  12/09/2024 |    530-7PM |       2347 MH |         Strout |  4.00 |  English Language And Literature (ENGLISH)  125 | \n",
      "Fall 2024 |  Regular Academic Session |  Literature, Sci, and the Arts |  18761 |  84 |  Writing&Academic Inq |  REC |  P  W |  nan |    T |  nan |   TH |  nan |  nan |  nan |  08/26/2024 |  12/09/2024 |  10-1130AM |       3866 EH |           Guay |  4.00 |  English Language And Literature (ENGLISH)  125 | \n",
      "Fall 2024 |  Regular Academic Session |  Literature, Sci, and the Arts |  24871 |  85 |  Writing&Academic Inq |  REC |  P  W |    M |  nan |    W |  nan |  nan |  nan |  nan |  08/26/2024 |  12/09/2024 |    1-230PM |       G634 HH |         Wilson |  4.00 |  English Language And Literature (ENGLISH)  125 | \n",
      "Fall 2024 |  Regular Academic Session |  Literature, Sci, and the Arts |  24872 |  86 |  Writing&Academic Inq |  REC |  P  W |    M |  nan |    W |  nan |  nan |  nan |  nan |  08/26/2024 |  12/09/2024 |   1130-1PM |       B834 EQ |            Lee |  4.00 |  English Language And Literature (ENGLISH)  125 | \n",
      "Fall 2024 |  Regular Academic Session |  Literature, Sci, and the Arts |  24873 |  87 |  Writing&Academic Inq |  REC |  P  W |    M |  nan |    W |  nan |  nan |  nan |  nan |  08/26/2024 |  12/09/2024 |   830-10AM |        335 WH |           Beer |  4.00 |  English Language And Literature (ENGLISH)  125 | \n",
      "Fall 2024 |  Regular Academic Session |  Literature, Sci, and the Arts |  24874 |  88 |  Writing&Academic Inq |  REC |  P  W |  nan |    T |  nan |   TH |  nan |  nan |  nan |  08/26/2024 |  12/09/2024 |    230-4PM |     4318 SPH2 |         Nelson |  4.00 |  English Language And Literature (ENGLISH)  125 | \n",
      "Fall 2024 |  Regular Academic Session |  Literature, Sci, and the Arts |  25202 |  89 |  Writing&Academic Inq |  REC |  P  W |    M |  nan |    W |  nan |  nan |  nan |  nan |  08/26/2024 |  12/09/2024 |   1130-1PM |      3540 NUB |           Wood |  4.00 |  English Language And Literature (ENGLISH)  125 | \n",
      "Fall 2024 |  Regular Academic Session |  Literature, Sci, and the Arts |  25203 |  90 |  Writing&Academic Inq |  REC |  P  W |    M |  nan |    W |  nan |  nan |  nan |  nan |  08/26/2024 |  12/09/2024 |    230-4PM |       1512 EQ |          Zeman |  4.00 |  English Language And Literature (ENGLISH)  125 | \n",
      "Fall 2024 |  Regular Academic Session |  Literature, Sci, and the Arts |  25204 |  91 |  Writing&Academic Inq |  REC |  P  W |    M |  nan |    W |  nan |    F |  nan |  nan |  08/26/2024 |  12/09/2024 |     12-1PM |      2200 SKB |       Bardolph |  4.00 |  English Language And Literature (ENGLISH)  125 | \n",
      "Fall 2024 |  Regular Academic Session |  Literature, Sci, and the Arts |  25205 |  92 |  Writing&Academic Inq |  REC |  P R  |  nan |    T |  nan |   TH |  nan |  nan |  nan |  08/26/2024 |  12/09/2024 |    230-4PM |       1096 EH |        Hussain |  4.00 |  English Language And Literature (ENGLISH)  125 | \n",
      "Fall 2024 |  Regular Academic Session |  Literature, Sci, and the Arts |  29237 |  93 |  Writing&Academic Inq |  REC |  P R  |    M |  nan |    W |  nan |  nan |  nan |  nan |  08/26/2024 |  12/09/2024 |  10-1130AM |      2230 USB |           Rome |  4.00 |  English Language And Literature (ENGLISH)  125 | \n",
      "Fall 2024 |  Regular Academic Session |  Literature, Sci, and the Arts |  29238 |  94 |  Writing&Academic Inq |  REC |  P  W |  nan |    T |  nan |   TH |  nan |  nan |  nan |  08/26/2024 |  12/09/2024 |  10-1130AM |       G437 MH |   Balvin Risco |  4.00 |  English Language And Literature (ENGLISH)  125 | \n",
      "Fall 2024 |  Regular Academic Session |  Literature, Sci, and the Arts |  29239 |  95 |  Writing&Academic Inq |  REC |  P    |  nan |    T |  nan |   TH |  nan |  nan |  nan |  08/26/2024 |  12/09/2024 |   1130-1PM |       B834 EQ |        Kumbhat |  4.00 |  English Language And Literature (ENGLISH)  125 | \n",
      "Fall 2024 |  Regular Academic Session |  Literature, Sci, and the Arts |  29240 |  96 |  Writing&Academic Inq |  REC |  P  W |  nan |    T |  nan |   TH |  nan |  nan |  nan |  08/26/2024 |  12/09/2024 |    1-230PM |       3353 MH |        Ventura |  4.00 |  English Language And Literature (ENGLISH)  125 | \n"
     ]
    }
   ],
   "source": [
    "print(course_schedule_text[max_index].page_content)"
   ]
  },
  {
   "cell_type": "code",
   "execution_count": 47,
   "metadata": {},
   "outputs": [
    {
     "name": "stdout",
     "output_type": "stream",
     "text": [
      "Chunking text...\n"
     ]
    }
   ],
   "source": [
    "from langchain_text_splitters import RecursiveCharacterTextSplitter\n",
    "# chunking text\n",
    "print(\"Chunking text...\")\n",
    "# old chunking method\n",
    "# pages = [course_description_text, degree_requirements_text, major_minor_description_text, subject_mapping_text, course_schedule_text]\n",
    "\n",
    "# text_splitter = RecursiveCharacterTextSplitter(chunk_size=2000, chunk_overlap=400)\n",
    "# course_description_chunks = text_splitter.split_documents(course_description_text)\n",
    "\n",
    "# text_splitter = RecursiveCharacterTextSplitter(chunk_size=600, chunk_overlap=100)\n",
    "# degree_requirements_chunks = text_splitter.split_documents(degree_requirements_text)\n",
    "\n",
    "# text_splitter = RecursiveCharacterTextSplitter(chunk_size=2000, chunk_overlap=400)\n",
    "# major_minor_description_chunks = text_splitter.split_documents(major_minor_description_text)\n",
    "\n",
    "# text_splitter = RecursiveCharacterTextSplitter(chunk_size=150, chunk_overlap=30)\n",
    "# subject_mapping_chunks = text_splitter.split_documents(subject_mapping_text)\n",
    "\n",
    "# text_splitter = RecursiveCharacterTextSplitter(chunk_size=2000, chunk_overlap=400)\n",
    "# course_schedule_chunks = text_splitter.split_documents(course_schedule_text)\n",
    "\n",
    "\n",
    "# chunked_pages = []\n",
    "# for page in pages:\n",
    "#     chunks = text_splitter.split_documents(page)\n",
    "#     chunked_pages.append(chunks)"
   ]
  },
  {
   "cell_type": "code",
   "execution_count": 48,
   "metadata": {},
   "outputs": [
    {
     "name": "stdout",
     "output_type": "stream",
     "text": [
      "Combining chunks...\n"
     ]
    }
   ],
   "source": [
    "# combining chunks\n",
    "# print(\"Combining chunks...\")\n",
    "# combined_chunks = []\n",
    "# for page in chunked_pages:\n",
    "#     combined_chunks.extend(page)"
   ]
  },
  {
   "cell_type": "code",
   "execution_count": 66,
   "metadata": {},
   "outputs": [
    {
     "data": {
      "text/plain": [
       "3441"
      ]
     },
     "execution_count": 66,
     "metadata": {},
     "output_type": "execute_result"
    }
   ],
   "source": [
    "len(course_description_text)"
   ]
  },
  {
   "cell_type": "code",
   "execution_count": 52,
   "metadata": {},
   "outputs": [],
   "source": [
    "combined_chunks = course_description_text + course_schedule_text\n"
   ]
  },
  {
   "cell_type": "code",
   "execution_count": 56,
   "metadata": {},
   "outputs": [
    {
     "name": "stdout",
     "output_type": "stream",
     "text": [
      "batch size None\n"
     ]
    },
    {
     "ename": "InvalidRequestError",
     "evalue": "Request to model 'voyage-large-2-instruct' failed. The example at index 2 in your batch has too many tokens and does not fit into the model's context window of 16000 tokens. Please lower the number of tokens in the listed example(s) or use truncation.",
     "output_type": "error",
     "traceback": [
      "\u001b[0;31m---------------------------------------------------------------------------\u001b[0m",
      "\u001b[0;31mInvalidRequestError\u001b[0m                       Traceback (most recent call last)",
      "Cell \u001b[0;32mIn[56], line 14\u001b[0m\n\u001b[1;32m      9\u001b[0m new_client \u001b[38;5;241m=\u001b[39m chromadb\u001b[38;5;241m.\u001b[39mPersistentClient(path \u001b[38;5;241m=\u001b[39m \u001b[38;5;124m\"\u001b[39m\u001b[38;5;124m./chroma_db\u001b[39m\u001b[38;5;124m\"\u001b[39m, tenant \u001b[38;5;241m=\u001b[39m DEFAULT_TENANT, database \u001b[38;5;241m=\u001b[39m DEFAULT_DATABASE, settings \u001b[38;5;241m=\u001b[39m Settings())\n\u001b[1;32m     11\u001b[0m embeddings \u001b[38;5;241m=\u001b[39m VoyageAIEmbeddings(\n\u001b[1;32m     12\u001b[0m     voyage_api_key\u001b[38;5;241m=\u001b[39mdotenv\u001b[38;5;241m.\u001b[39mget_key(dotenv_path\u001b[38;5;241m=\u001b[39m \u001b[38;5;124m\"\u001b[39m\u001b[38;5;124m.env\u001b[39m\u001b[38;5;124m\"\u001b[39m, key_to_get \u001b[38;5;241m=\u001b[39m \u001b[38;5;124m\"\u001b[39m\u001b[38;5;124mVOYAGEAI_KEY\u001b[39m\u001b[38;5;124m\"\u001b[39m) , model\u001b[38;5;241m=\u001b[39m\u001b[38;5;124m\"\u001b[39m\u001b[38;5;124mvoyage-large-2-instruct\u001b[39m\u001b[38;5;124m\"\u001b[39m)\n\u001b[0;32m---> 14\u001b[0m vectorstore \u001b[38;5;241m=\u001b[39m \u001b[43mChroma\u001b[49m\u001b[38;5;241;43m.\u001b[39;49m\u001b[43mfrom_documents\u001b[49m\u001b[43m(\u001b[49m\u001b[43mdocuments\u001b[49m\u001b[38;5;241;43m=\u001b[39;49m\u001b[43mcombined_chunks\u001b[49m\u001b[43m,\u001b[49m\u001b[43m \u001b[49m\u001b[43membedding\u001b[49m\u001b[38;5;241;43m=\u001b[39;49m\u001b[43membeddings\u001b[49m\u001b[43m,\u001b[49m\u001b[43m \u001b[49m\u001b[43mcollection_name\u001b[49m\u001b[38;5;241;43m=\u001b[39;49m\u001b[38;5;124;43m\"\u001b[39;49m\u001b[38;5;124;43mumich_fa2024\u001b[39;49m\u001b[38;5;124;43m\"\u001b[39;49m\u001b[43m,\u001b[49m\u001b[43m \u001b[49m\u001b[43mclient\u001b[49m\u001b[38;5;241;43m=\u001b[39;49m\u001b[43mnew_client\u001b[49m\u001b[43m)\u001b[49m\n",
      "File \u001b[0;32m~/anaconda3/envs/lm_mentor/lib/python3.9/site-packages/langchain_chroma/vectorstores.py:921\u001b[0m, in \u001b[0;36mChroma.from_documents\u001b[0;34m(cls, documents, embedding, ids, collection_name, persist_directory, client_settings, client, collection_metadata, **kwargs)\u001b[0m\n\u001b[1;32m    919\u001b[0m texts \u001b[38;5;241m=\u001b[39m [doc\u001b[38;5;241m.\u001b[39mpage_content \u001b[38;5;28;01mfor\u001b[39;00m doc \u001b[38;5;129;01min\u001b[39;00m documents]\n\u001b[1;32m    920\u001b[0m metadatas \u001b[38;5;241m=\u001b[39m [doc\u001b[38;5;241m.\u001b[39mmetadata \u001b[38;5;28;01mfor\u001b[39;00m doc \u001b[38;5;129;01min\u001b[39;00m documents]\n\u001b[0;32m--> 921\u001b[0m \u001b[38;5;28;01mreturn\u001b[39;00m \u001b[38;5;28;43mcls\u001b[39;49m\u001b[38;5;241;43m.\u001b[39;49m\u001b[43mfrom_texts\u001b[49m\u001b[43m(\u001b[49m\n\u001b[1;32m    922\u001b[0m \u001b[43m    \u001b[49m\u001b[43mtexts\u001b[49m\u001b[38;5;241;43m=\u001b[39;49m\u001b[43mtexts\u001b[49m\u001b[43m,\u001b[49m\n\u001b[1;32m    923\u001b[0m \u001b[43m    \u001b[49m\u001b[43membedding\u001b[49m\u001b[38;5;241;43m=\u001b[39;49m\u001b[43membedding\u001b[49m\u001b[43m,\u001b[49m\n\u001b[1;32m    924\u001b[0m \u001b[43m    \u001b[49m\u001b[43mmetadatas\u001b[49m\u001b[38;5;241;43m=\u001b[39;49m\u001b[43mmetadatas\u001b[49m\u001b[43m,\u001b[49m\n\u001b[1;32m    925\u001b[0m \u001b[43m    \u001b[49m\u001b[43mids\u001b[49m\u001b[38;5;241;43m=\u001b[39;49m\u001b[43mids\u001b[49m\u001b[43m,\u001b[49m\n\u001b[1;32m    926\u001b[0m \u001b[43m    \u001b[49m\u001b[43mcollection_name\u001b[49m\u001b[38;5;241;43m=\u001b[39;49m\u001b[43mcollection_name\u001b[49m\u001b[43m,\u001b[49m\n\u001b[1;32m    927\u001b[0m \u001b[43m    \u001b[49m\u001b[43mpersist_directory\u001b[49m\u001b[38;5;241;43m=\u001b[39;49m\u001b[43mpersist_directory\u001b[49m\u001b[43m,\u001b[49m\n\u001b[1;32m    928\u001b[0m \u001b[43m    \u001b[49m\u001b[43mclient_settings\u001b[49m\u001b[38;5;241;43m=\u001b[39;49m\u001b[43mclient_settings\u001b[49m\u001b[43m,\u001b[49m\n\u001b[1;32m    929\u001b[0m \u001b[43m    \u001b[49m\u001b[43mclient\u001b[49m\u001b[38;5;241;43m=\u001b[39;49m\u001b[43mclient\u001b[49m\u001b[43m,\u001b[49m\n\u001b[1;32m    930\u001b[0m \u001b[43m    \u001b[49m\u001b[43mcollection_metadata\u001b[49m\u001b[38;5;241;43m=\u001b[39;49m\u001b[43mcollection_metadata\u001b[49m\u001b[43m,\u001b[49m\n\u001b[1;32m    931\u001b[0m \u001b[43m    \u001b[49m\u001b[38;5;241;43m*\u001b[39;49m\u001b[38;5;241;43m*\u001b[39;49m\u001b[43mkwargs\u001b[49m\u001b[43m,\u001b[49m\n\u001b[1;32m    932\u001b[0m \u001b[43m\u001b[49m\u001b[43m)\u001b[49m\n",
      "File \u001b[0;32m~/anaconda3/envs/lm_mentor/lib/python3.9/site-packages/langchain_chroma/vectorstores.py:882\u001b[0m, in \u001b[0;36mChroma.from_texts\u001b[0;34m(cls, texts, embedding, metadatas, ids, collection_name, persist_directory, client_settings, client, collection_metadata, **kwargs)\u001b[0m\n\u001b[1;32m    876\u001b[0m         chroma_collection\u001b[38;5;241m.\u001b[39madd_texts(\n\u001b[1;32m    877\u001b[0m             texts\u001b[38;5;241m=\u001b[39mbatch[\u001b[38;5;241m3\u001b[39m] \u001b[38;5;28;01mif\u001b[39;00m batch[\u001b[38;5;241m3\u001b[39m] \u001b[38;5;28;01melse\u001b[39;00m [],\n\u001b[1;32m    878\u001b[0m             metadatas\u001b[38;5;241m=\u001b[39mbatch[\u001b[38;5;241m2\u001b[39m] \u001b[38;5;28;01mif\u001b[39;00m batch[\u001b[38;5;241m2\u001b[39m] \u001b[38;5;28;01melse\u001b[39;00m \u001b[38;5;28;01mNone\u001b[39;00m,  \u001b[38;5;66;03m# type: ignore\u001b[39;00m\n\u001b[1;32m    879\u001b[0m             ids\u001b[38;5;241m=\u001b[39mbatch[\u001b[38;5;241m0\u001b[39m],\n\u001b[1;32m    880\u001b[0m         )\n\u001b[1;32m    881\u001b[0m \u001b[38;5;28;01melse\u001b[39;00m:\n\u001b[0;32m--> 882\u001b[0m     \u001b[43mchroma_collection\u001b[49m\u001b[38;5;241;43m.\u001b[39;49m\u001b[43madd_texts\u001b[49m\u001b[43m(\u001b[49m\u001b[43mtexts\u001b[49m\u001b[38;5;241;43m=\u001b[39;49m\u001b[43mtexts\u001b[49m\u001b[43m,\u001b[49m\u001b[43m \u001b[49m\u001b[43mmetadatas\u001b[49m\u001b[38;5;241;43m=\u001b[39;49m\u001b[43mmetadatas\u001b[49m\u001b[43m,\u001b[49m\u001b[43m \u001b[49m\u001b[43mids\u001b[49m\u001b[38;5;241;43m=\u001b[39;49m\u001b[43mids\u001b[49m\u001b[43m)\u001b[49m\n\u001b[1;32m    883\u001b[0m \u001b[38;5;28;01mreturn\u001b[39;00m chroma_collection\n",
      "File \u001b[0;32m~/anaconda3/envs/lm_mentor/lib/python3.9/site-packages/langchain_chroma/vectorstores.py:389\u001b[0m, in \u001b[0;36mChroma.add_texts\u001b[0;34m(self, texts, metadatas, ids, **kwargs)\u001b[0m\n\u001b[1;32m    387\u001b[0m texts \u001b[38;5;241m=\u001b[39m \u001b[38;5;28mlist\u001b[39m(texts)\n\u001b[1;32m    388\u001b[0m \u001b[38;5;28;01mif\u001b[39;00m \u001b[38;5;28mself\u001b[39m\u001b[38;5;241m.\u001b[39m_embedding_function \u001b[38;5;129;01mis\u001b[39;00m \u001b[38;5;129;01mnot\u001b[39;00m \u001b[38;5;28;01mNone\u001b[39;00m:\n\u001b[0;32m--> 389\u001b[0m     embeddings \u001b[38;5;241m=\u001b[39m \u001b[38;5;28;43mself\u001b[39;49m\u001b[38;5;241;43m.\u001b[39;49m\u001b[43m_embedding_function\u001b[49m\u001b[38;5;241;43m.\u001b[39;49m\u001b[43membed_documents\u001b[49m\u001b[43m(\u001b[49m\u001b[43mtexts\u001b[49m\u001b[43m)\u001b[49m\n\u001b[1;32m    390\u001b[0m \u001b[38;5;28;01mif\u001b[39;00m metadatas:\n\u001b[1;32m    391\u001b[0m     \u001b[38;5;66;03m# fill metadatas with empty dicts if somebody\u001b[39;00m\n\u001b[1;32m    392\u001b[0m     \u001b[38;5;66;03m# did not specify metadata for all texts\u001b[39;00m\n\u001b[1;32m    393\u001b[0m     length_diff \u001b[38;5;241m=\u001b[39m \u001b[38;5;28mlen\u001b[39m(texts) \u001b[38;5;241m-\u001b[39m \u001b[38;5;28mlen\u001b[39m(metadatas)\n",
      "File \u001b[0;32m~/anaconda3/envs/lm_mentor/lib/python3.9/site-packages/langchain_voyageai/embeddings.py:92\u001b[0m, in \u001b[0;36mVoyageAIEmbeddings.embed_documents\u001b[0;34m(self, texts)\u001b[0m\n\u001b[1;32m     89\u001b[0m _iter \u001b[38;5;241m=\u001b[39m \u001b[38;5;28mself\u001b[39m\u001b[38;5;241m.\u001b[39m_get_batch_iterator(texts)\n\u001b[1;32m     90\u001b[0m \u001b[38;5;28;01mfor\u001b[39;00m i \u001b[38;5;129;01min\u001b[39;00m _iter:\n\u001b[1;32m     91\u001b[0m     embeddings\u001b[38;5;241m.\u001b[39mextend(\n\u001b[0;32m---> 92\u001b[0m         \u001b[38;5;28;43mself\u001b[39;49m\u001b[38;5;241;43m.\u001b[39;49m\u001b[43m_client\u001b[49m\u001b[38;5;241;43m.\u001b[39;49m\u001b[43membed\u001b[49m\u001b[43m(\u001b[49m\n\u001b[1;32m     93\u001b[0m \u001b[43m            \u001b[49m\u001b[43mtexts\u001b[49m\u001b[43m[\u001b[49m\u001b[43mi\u001b[49m\u001b[43m \u001b[49m\u001b[43m:\u001b[49m\u001b[43m \u001b[49m\u001b[43mi\u001b[49m\u001b[43m \u001b[49m\u001b[38;5;241;43m+\u001b[39;49m\u001b[43m \u001b[49m\u001b[38;5;28;43mself\u001b[39;49m\u001b[38;5;241;43m.\u001b[39;49m\u001b[43mbatch_size\u001b[49m\u001b[43m]\u001b[49m\u001b[43m,\u001b[49m\n\u001b[1;32m     94\u001b[0m \u001b[43m            \u001b[49m\u001b[43mmodel\u001b[49m\u001b[38;5;241;43m=\u001b[39;49m\u001b[38;5;28;43mself\u001b[39;49m\u001b[38;5;241;43m.\u001b[39;49m\u001b[43mmodel\u001b[49m\u001b[43m,\u001b[49m\n\u001b[1;32m     95\u001b[0m \u001b[43m            \u001b[49m\u001b[43minput_type\u001b[49m\u001b[38;5;241;43m=\u001b[39;49m\u001b[38;5;124;43m\"\u001b[39;49m\u001b[38;5;124;43mdocument\u001b[39;49m\u001b[38;5;124;43m\"\u001b[39;49m\u001b[43m,\u001b[49m\n\u001b[1;32m     96\u001b[0m \u001b[43m            \u001b[49m\u001b[43mtruncation\u001b[49m\u001b[38;5;241;43m=\u001b[39;49m\u001b[38;5;28;43mself\u001b[39;49m\u001b[38;5;241;43m.\u001b[39;49m\u001b[43mtruncation\u001b[49m\u001b[43m,\u001b[49m\n\u001b[1;32m     97\u001b[0m \u001b[43m        \u001b[49m\u001b[43m)\u001b[49m\u001b[38;5;241m.\u001b[39membeddings\n\u001b[1;32m     98\u001b[0m     )\n\u001b[1;32m    100\u001b[0m \u001b[38;5;28;01mreturn\u001b[39;00m embeddings\n",
      "File \u001b[0;32m~/anaconda3/envs/lm_mentor/lib/python3.9/site-packages/voyageai/client.py:68\u001b[0m, in \u001b[0;36mClient.embed\u001b[0;34m(self, texts, model, input_type, truncation)\u001b[0m\n\u001b[1;32m     60\u001b[0m     model \u001b[38;5;241m=\u001b[39m voyageai\u001b[38;5;241m.\u001b[39mVOYAGE_EMBED_DEFAULT_MODEL\n\u001b[1;32m     61\u001b[0m     warnings\u001b[38;5;241m.\u001b[39mwarn(\n\u001b[1;32m     62\u001b[0m         \u001b[38;5;124mf\u001b[39m\u001b[38;5;124m\"\u001b[39m\u001b[38;5;124mThe `model` argument is not specified and defaults to \u001b[39m\u001b[38;5;132;01m{\u001b[39;00mvoyageai\u001b[38;5;241m.\u001b[39mVOYAGE_EMBED_DEFAULT_MODEL\u001b[38;5;132;01m}\u001b[39;00m\u001b[38;5;124m. \u001b[39m\u001b[38;5;124m\"\u001b[39m\n\u001b[1;32m     63\u001b[0m         \u001b[38;5;124m\"\u001b[39m\u001b[38;5;124mIt will be a required argument in the future. We recommend to specify the model when using this \u001b[39m\u001b[38;5;124m\"\u001b[39m\n\u001b[1;32m     64\u001b[0m         \u001b[38;5;124m\"\u001b[39m\u001b[38;5;124mfunction. Please see https://docs.voyageai.com/docs/embeddings for the list of latest models \u001b[39m\u001b[38;5;124m\"\u001b[39m\n\u001b[1;32m     65\u001b[0m         \u001b[38;5;124m\"\u001b[39m\u001b[38;5;124mprovided by Voyage AI.\u001b[39m\u001b[38;5;124m\"\u001b[39m\n\u001b[1;32m     66\u001b[0m     )\n\u001b[0;32m---> 68\u001b[0m \u001b[38;5;28;01mfor\u001b[39;00m attempt \u001b[38;5;129;01min\u001b[39;00m \u001b[38;5;28mself\u001b[39m\u001b[38;5;241m.\u001b[39mretry_controller:\n\u001b[1;32m     69\u001b[0m     \u001b[38;5;28;01mwith\u001b[39;00m attempt:\n\u001b[1;32m     70\u001b[0m         response \u001b[38;5;241m=\u001b[39m voyageai\u001b[38;5;241m.\u001b[39mEmbedding\u001b[38;5;241m.\u001b[39mcreate(\n\u001b[1;32m     71\u001b[0m             \u001b[38;5;28minput\u001b[39m\u001b[38;5;241m=\u001b[39mtexts,\n\u001b[1;32m     72\u001b[0m             model\u001b[38;5;241m=\u001b[39mmodel,\n\u001b[0;32m   (...)\u001b[0m\n\u001b[1;32m     75\u001b[0m             \u001b[38;5;241m*\u001b[39m\u001b[38;5;241m*\u001b[39m\u001b[38;5;28mself\u001b[39m\u001b[38;5;241m.\u001b[39m_params,\n\u001b[1;32m     76\u001b[0m         )\n",
      "File \u001b[0;32m~/anaconda3/envs/lm_mentor/lib/python3.9/site-packages/tenacity/__init__.py:443\u001b[0m, in \u001b[0;36mBaseRetrying.__iter__\u001b[0;34m(self)\u001b[0m\n\u001b[1;32m    441\u001b[0m retry_state \u001b[38;5;241m=\u001b[39m RetryCallState(\u001b[38;5;28mself\u001b[39m, fn\u001b[38;5;241m=\u001b[39m\u001b[38;5;28;01mNone\u001b[39;00m, args\u001b[38;5;241m=\u001b[39m(), kwargs\u001b[38;5;241m=\u001b[39m{})\n\u001b[1;32m    442\u001b[0m \u001b[38;5;28;01mwhile\u001b[39;00m \u001b[38;5;28;01mTrue\u001b[39;00m:\n\u001b[0;32m--> 443\u001b[0m     do \u001b[38;5;241m=\u001b[39m \u001b[38;5;28;43mself\u001b[39;49m\u001b[38;5;241;43m.\u001b[39;49m\u001b[43miter\u001b[49m\u001b[43m(\u001b[49m\u001b[43mretry_state\u001b[49m\u001b[38;5;241;43m=\u001b[39;49m\u001b[43mretry_state\u001b[49m\u001b[43m)\u001b[49m\n\u001b[1;32m    444\u001b[0m     \u001b[38;5;28;01mif\u001b[39;00m \u001b[38;5;28misinstance\u001b[39m(do, DoAttempt):\n\u001b[1;32m    445\u001b[0m         \u001b[38;5;28;01myield\u001b[39;00m AttemptManager(retry_state\u001b[38;5;241m=\u001b[39mretry_state)\n",
      "File \u001b[0;32m~/anaconda3/envs/lm_mentor/lib/python3.9/site-packages/tenacity/__init__.py:376\u001b[0m, in \u001b[0;36mBaseRetrying.iter\u001b[0;34m(self, retry_state)\u001b[0m\n\u001b[1;32m    374\u001b[0m result \u001b[38;5;241m=\u001b[39m \u001b[38;5;28;01mNone\u001b[39;00m\n\u001b[1;32m    375\u001b[0m \u001b[38;5;28;01mfor\u001b[39;00m action \u001b[38;5;129;01min\u001b[39;00m \u001b[38;5;28mself\u001b[39m\u001b[38;5;241m.\u001b[39miter_state\u001b[38;5;241m.\u001b[39mactions:\n\u001b[0;32m--> 376\u001b[0m     result \u001b[38;5;241m=\u001b[39m \u001b[43maction\u001b[49m\u001b[43m(\u001b[49m\u001b[43mretry_state\u001b[49m\u001b[43m)\u001b[49m\n\u001b[1;32m    377\u001b[0m \u001b[38;5;28;01mreturn\u001b[39;00m result\n",
      "File \u001b[0;32m~/anaconda3/envs/lm_mentor/lib/python3.9/site-packages/tenacity/__init__.py:398\u001b[0m, in \u001b[0;36mBaseRetrying._post_retry_check_actions.<locals>.<lambda>\u001b[0;34m(rs)\u001b[0m\n\u001b[1;32m    396\u001b[0m \u001b[38;5;28;01mdef\u001b[39;00m \u001b[38;5;21m_post_retry_check_actions\u001b[39m(\u001b[38;5;28mself\u001b[39m, retry_state: \u001b[38;5;124m\"\u001b[39m\u001b[38;5;124mRetryCallState\u001b[39m\u001b[38;5;124m\"\u001b[39m) \u001b[38;5;241m-\u001b[39m\u001b[38;5;241m>\u001b[39m \u001b[38;5;28;01mNone\u001b[39;00m:\n\u001b[1;32m    397\u001b[0m     \u001b[38;5;28;01mif\u001b[39;00m \u001b[38;5;129;01mnot\u001b[39;00m (\u001b[38;5;28mself\u001b[39m\u001b[38;5;241m.\u001b[39miter_state\u001b[38;5;241m.\u001b[39mis_explicit_retry \u001b[38;5;129;01mor\u001b[39;00m \u001b[38;5;28mself\u001b[39m\u001b[38;5;241m.\u001b[39miter_state\u001b[38;5;241m.\u001b[39mretry_run_result):\n\u001b[0;32m--> 398\u001b[0m         \u001b[38;5;28mself\u001b[39m\u001b[38;5;241m.\u001b[39m_add_action_func(\u001b[38;5;28;01mlambda\u001b[39;00m rs: \u001b[43mrs\u001b[49m\u001b[38;5;241;43m.\u001b[39;49m\u001b[43moutcome\u001b[49m\u001b[38;5;241;43m.\u001b[39;49m\u001b[43mresult\u001b[49m\u001b[43m(\u001b[49m\u001b[43m)\u001b[49m)\n\u001b[1;32m    399\u001b[0m         \u001b[38;5;28;01mreturn\u001b[39;00m\n\u001b[1;32m    401\u001b[0m     \u001b[38;5;28;01mif\u001b[39;00m \u001b[38;5;28mself\u001b[39m\u001b[38;5;241m.\u001b[39mafter \u001b[38;5;129;01mis\u001b[39;00m \u001b[38;5;129;01mnot\u001b[39;00m \u001b[38;5;28;01mNone\u001b[39;00m:\n",
      "File \u001b[0;32m~/anaconda3/envs/lm_mentor/lib/python3.9/concurrent/futures/_base.py:439\u001b[0m, in \u001b[0;36mFuture.result\u001b[0;34m(self, timeout)\u001b[0m\n\u001b[1;32m    437\u001b[0m     \u001b[38;5;28;01mraise\u001b[39;00m CancelledError()\n\u001b[1;32m    438\u001b[0m \u001b[38;5;28;01melif\u001b[39;00m \u001b[38;5;28mself\u001b[39m\u001b[38;5;241m.\u001b[39m_state \u001b[38;5;241m==\u001b[39m FINISHED:\n\u001b[0;32m--> 439\u001b[0m     \u001b[38;5;28;01mreturn\u001b[39;00m \u001b[38;5;28;43mself\u001b[39;49m\u001b[38;5;241;43m.\u001b[39;49m\u001b[43m__get_result\u001b[49m\u001b[43m(\u001b[49m\u001b[43m)\u001b[49m\n\u001b[1;32m    441\u001b[0m \u001b[38;5;28mself\u001b[39m\u001b[38;5;241m.\u001b[39m_condition\u001b[38;5;241m.\u001b[39mwait(timeout)\n\u001b[1;32m    443\u001b[0m \u001b[38;5;28;01mif\u001b[39;00m \u001b[38;5;28mself\u001b[39m\u001b[38;5;241m.\u001b[39m_state \u001b[38;5;129;01min\u001b[39;00m [CANCELLED, CANCELLED_AND_NOTIFIED]:\n",
      "File \u001b[0;32m~/anaconda3/envs/lm_mentor/lib/python3.9/concurrent/futures/_base.py:391\u001b[0m, in \u001b[0;36mFuture.__get_result\u001b[0;34m(self)\u001b[0m\n\u001b[1;32m    389\u001b[0m \u001b[38;5;28;01mif\u001b[39;00m \u001b[38;5;28mself\u001b[39m\u001b[38;5;241m.\u001b[39m_exception:\n\u001b[1;32m    390\u001b[0m     \u001b[38;5;28;01mtry\u001b[39;00m:\n\u001b[0;32m--> 391\u001b[0m         \u001b[38;5;28;01mraise\u001b[39;00m \u001b[38;5;28mself\u001b[39m\u001b[38;5;241m.\u001b[39m_exception\n\u001b[1;32m    392\u001b[0m     \u001b[38;5;28;01mfinally\u001b[39;00m:\n\u001b[1;32m    393\u001b[0m         \u001b[38;5;66;03m# Break a reference cycle with the exception in self._exception\u001b[39;00m\n\u001b[1;32m    394\u001b[0m         \u001b[38;5;28mself\u001b[39m \u001b[38;5;241m=\u001b[39m \u001b[38;5;28;01mNone\u001b[39;00m\n",
      "File \u001b[0;32m~/anaconda3/envs/lm_mentor/lib/python3.9/site-packages/voyageai/client.py:70\u001b[0m, in \u001b[0;36mClient.embed\u001b[0;34m(self, texts, model, input_type, truncation)\u001b[0m\n\u001b[1;32m     68\u001b[0m \u001b[38;5;28;01mfor\u001b[39;00m attempt \u001b[38;5;129;01min\u001b[39;00m \u001b[38;5;28mself\u001b[39m\u001b[38;5;241m.\u001b[39mretry_controller:\n\u001b[1;32m     69\u001b[0m     \u001b[38;5;28;01mwith\u001b[39;00m attempt:\n\u001b[0;32m---> 70\u001b[0m         response \u001b[38;5;241m=\u001b[39m \u001b[43mvoyageai\u001b[49m\u001b[38;5;241;43m.\u001b[39;49m\u001b[43mEmbedding\u001b[49m\u001b[38;5;241;43m.\u001b[39;49m\u001b[43mcreate\u001b[49m\u001b[43m(\u001b[49m\n\u001b[1;32m     71\u001b[0m \u001b[43m            \u001b[49m\u001b[38;5;28;43minput\u001b[39;49m\u001b[38;5;241;43m=\u001b[39;49m\u001b[43mtexts\u001b[49m\u001b[43m,\u001b[49m\n\u001b[1;32m     72\u001b[0m \u001b[43m            \u001b[49m\u001b[43mmodel\u001b[49m\u001b[38;5;241;43m=\u001b[39;49m\u001b[43mmodel\u001b[49m\u001b[43m,\u001b[49m\n\u001b[1;32m     73\u001b[0m \u001b[43m            \u001b[49m\u001b[43minput_type\u001b[49m\u001b[38;5;241;43m=\u001b[39;49m\u001b[43minput_type\u001b[49m\u001b[43m,\u001b[49m\n\u001b[1;32m     74\u001b[0m \u001b[43m            \u001b[49m\u001b[43mtruncation\u001b[49m\u001b[38;5;241;43m=\u001b[39;49m\u001b[43mtruncation\u001b[49m\u001b[43m,\u001b[49m\n\u001b[1;32m     75\u001b[0m \u001b[43m            \u001b[49m\u001b[38;5;241;43m*\u001b[39;49m\u001b[38;5;241;43m*\u001b[39;49m\u001b[38;5;28;43mself\u001b[39;49m\u001b[38;5;241;43m.\u001b[39;49m\u001b[43m_params\u001b[49m\u001b[43m,\u001b[49m\n\u001b[1;32m     76\u001b[0m \u001b[43m        \u001b[49m\u001b[43m)\u001b[49m\n\u001b[1;32m     78\u001b[0m result \u001b[38;5;241m=\u001b[39m EmbeddingsObject(response)\n\u001b[1;32m     79\u001b[0m \u001b[38;5;28;01mreturn\u001b[39;00m result\n",
      "File \u001b[0;32m~/anaconda3/envs/lm_mentor/lib/python3.9/site-packages/voyageai/api_resources/embedding.py:22\u001b[0m, in \u001b[0;36mEmbedding.create\u001b[0;34m(cls, *args, **kwargs)\u001b[0m\n\u001b[1;32m     19\u001b[0m \u001b[38;5;28;01mif\u001b[39;00m \u001b[38;5;129;01mnot\u001b[39;00m user_provided_encoding_format:\n\u001b[1;32m     20\u001b[0m     kwargs[\u001b[38;5;124m\"\u001b[39m\u001b[38;5;124mencoding_format\u001b[39m\u001b[38;5;124m\"\u001b[39m] \u001b[38;5;241m=\u001b[39m \u001b[38;5;124m\"\u001b[39m\u001b[38;5;124mbase64\u001b[39m\u001b[38;5;124m\"\u001b[39m\n\u001b[0;32m---> 22\u001b[0m response \u001b[38;5;241m=\u001b[39m \u001b[38;5;28;43msuper\u001b[39;49m\u001b[43m(\u001b[49m\u001b[43m)\u001b[49m\u001b[38;5;241;43m.\u001b[39;49m\u001b[43mcreate\u001b[49m\u001b[43m(\u001b[49m\u001b[38;5;241;43m*\u001b[39;49m\u001b[43margs\u001b[49m\u001b[43m,\u001b[49m\u001b[43m \u001b[49m\u001b[38;5;241;43m*\u001b[39;49m\u001b[38;5;241;43m*\u001b[39;49m\u001b[43mkwargs\u001b[49m\u001b[43m)\u001b[49m\n\u001b[1;32m     24\u001b[0m \u001b[38;5;66;03m# If a user specifies base64, we'll just return the encoded string.\u001b[39;00m\n\u001b[1;32m     25\u001b[0m \u001b[38;5;66;03m# This is only for the default case.\u001b[39;00m\n\u001b[1;32m     26\u001b[0m \u001b[38;5;28;01mif\u001b[39;00m \u001b[38;5;129;01mnot\u001b[39;00m user_provided_encoding_format:\n",
      "File \u001b[0;32m~/anaconda3/envs/lm_mentor/lib/python3.9/site-packages/voyageai/api_resources/api_resource.py:47\u001b[0m, in \u001b[0;36mAPIResource.create\u001b[0;34m(cls, api_key, api_base, request_id, request_timeout, **params)\u001b[0m\n\u001b[1;32m     34\u001b[0m \u001b[38;5;129m@classmethod\u001b[39m\n\u001b[1;32m     35\u001b[0m \u001b[38;5;28;01mdef\u001b[39;00m \u001b[38;5;21mcreate\u001b[39m(\n\u001b[1;32m     36\u001b[0m     \u001b[38;5;28mcls\u001b[39m,\n\u001b[0;32m   (...)\u001b[0m\n\u001b[1;32m     41\u001b[0m     \u001b[38;5;241m*\u001b[39m\u001b[38;5;241m*\u001b[39mparams,\n\u001b[1;32m     42\u001b[0m ):\n\u001b[1;32m     43\u001b[0m     requestor, url, params, headers \u001b[38;5;241m=\u001b[39m \u001b[38;5;28mcls\u001b[39m\u001b[38;5;241m.\u001b[39m__prepare_create_request(\n\u001b[1;32m     44\u001b[0m         api_key, api_base, \u001b[38;5;241m*\u001b[39m\u001b[38;5;241m*\u001b[39mparams\n\u001b[1;32m     45\u001b[0m     )\n\u001b[0;32m---> 47\u001b[0m     response \u001b[38;5;241m=\u001b[39m \u001b[43mrequestor\u001b[49m\u001b[38;5;241;43m.\u001b[39;49m\u001b[43mrequest\u001b[49m\u001b[43m(\u001b[49m\n\u001b[1;32m     48\u001b[0m \u001b[43m        \u001b[49m\u001b[38;5;124;43m\"\u001b[39;49m\u001b[38;5;124;43mpost\u001b[39;49m\u001b[38;5;124;43m\"\u001b[39;49m\u001b[43m,\u001b[49m\n\u001b[1;32m     49\u001b[0m \u001b[43m        \u001b[49m\u001b[43murl\u001b[49m\u001b[43m,\u001b[49m\n\u001b[1;32m     50\u001b[0m \u001b[43m        \u001b[49m\u001b[43mparams\u001b[49m\u001b[38;5;241;43m=\u001b[39;49m\u001b[43mparams\u001b[49m\u001b[43m,\u001b[49m\n\u001b[1;32m     51\u001b[0m \u001b[43m        \u001b[49m\u001b[43mheaders\u001b[49m\u001b[38;5;241;43m=\u001b[39;49m\u001b[43mheaders\u001b[49m\u001b[43m,\u001b[49m\n\u001b[1;32m     52\u001b[0m \u001b[43m        \u001b[49m\u001b[43mrequest_id\u001b[49m\u001b[38;5;241;43m=\u001b[39;49m\u001b[43mrequest_id\u001b[49m\u001b[43m,\u001b[49m\n\u001b[1;32m     53\u001b[0m \u001b[43m        \u001b[49m\u001b[43mrequest_timeout\u001b[49m\u001b[38;5;241;43m=\u001b[39;49m\u001b[43mrequest_timeout\u001b[49m\u001b[43m,\u001b[49m\n\u001b[1;32m     54\u001b[0m \u001b[43m    \u001b[49m\u001b[43m)\u001b[49m\n\u001b[1;32m     56\u001b[0m     obj \u001b[38;5;241m=\u001b[39m convert_to_voyage_response(response)\n\u001b[1;32m     57\u001b[0m     \u001b[38;5;28;01mreturn\u001b[39;00m obj\n",
      "File \u001b[0;32m~/anaconda3/envs/lm_mentor/lib/python3.9/site-packages/voyageai/api_resources/api_requestor.py:147\u001b[0m, in \u001b[0;36mAPIRequestor.request\u001b[0;34m(self, method, url, params, headers, files, stream, request_id, request_timeout)\u001b[0m\n\u001b[1;32m    126\u001b[0m \u001b[38;5;28;01mdef\u001b[39;00m \u001b[38;5;21mrequest\u001b[39m(\n\u001b[1;32m    127\u001b[0m     \u001b[38;5;28mself\u001b[39m,\n\u001b[1;32m    128\u001b[0m     method,\n\u001b[0;32m   (...)\u001b[0m\n\u001b[1;32m    135\u001b[0m     request_timeout: Optional[Union[\u001b[38;5;28mfloat\u001b[39m, Tuple[\u001b[38;5;28mfloat\u001b[39m, \u001b[38;5;28mfloat\u001b[39m]]] \u001b[38;5;241m=\u001b[39m \u001b[38;5;28;01mNone\u001b[39;00m,\n\u001b[1;32m    136\u001b[0m ) \u001b[38;5;241m-\u001b[39m\u001b[38;5;241m>\u001b[39m VoyageHttpResponse:\n\u001b[1;32m    137\u001b[0m     result \u001b[38;5;241m=\u001b[39m \u001b[38;5;28mself\u001b[39m\u001b[38;5;241m.\u001b[39mrequest_raw(\n\u001b[1;32m    138\u001b[0m         method\u001b[38;5;241m.\u001b[39mlower(),\n\u001b[1;32m    139\u001b[0m         url,\n\u001b[0;32m   (...)\u001b[0m\n\u001b[1;32m    145\u001b[0m         request_timeout\u001b[38;5;241m=\u001b[39mrequest_timeout,\n\u001b[1;32m    146\u001b[0m     )\n\u001b[0;32m--> 147\u001b[0m     resp \u001b[38;5;241m=\u001b[39m \u001b[38;5;28;43mself\u001b[39;49m\u001b[38;5;241;43m.\u001b[39;49m\u001b[43m_interpret_response\u001b[49m\u001b[43m(\u001b[49m\u001b[43mresult\u001b[49m\u001b[43m)\u001b[49m\n\u001b[1;32m    148\u001b[0m     \u001b[38;5;28;01mreturn\u001b[39;00m resp\n",
      "File \u001b[0;32m~/anaconda3/envs/lm_mentor/lib/python3.9/site-packages/voyageai/api_resources/api_requestor.py:408\u001b[0m, in \u001b[0;36mAPIRequestor._interpret_response\u001b[0;34m(self, result)\u001b[0m\n\u001b[1;32m    405\u001b[0m \u001b[38;5;28;01mdef\u001b[39;00m \u001b[38;5;21m_interpret_response\u001b[39m(\u001b[38;5;28mself\u001b[39m, result: requests\u001b[38;5;241m.\u001b[39mResponse) \u001b[38;5;241m-\u001b[39m\u001b[38;5;241m>\u001b[39m VoyageHttpResponse:\n\u001b[1;32m    406\u001b[0m \u001b[38;5;250m    \u001b[39m\u001b[38;5;124;03m\"\"\"Returns the response(s) and a bool indicating whether it is a stream.\"\"\"\u001b[39;00m\n\u001b[0;32m--> 408\u001b[0m     \u001b[38;5;28;01mreturn\u001b[39;00m \u001b[38;5;28;43mself\u001b[39;49m\u001b[38;5;241;43m.\u001b[39;49m\u001b[43m_interpret_response_line\u001b[49m\u001b[43m(\u001b[49m\n\u001b[1;32m    409\u001b[0m \u001b[43m        \u001b[49m\u001b[43mresult\u001b[49m\u001b[38;5;241;43m.\u001b[39;49m\u001b[43mcontent\u001b[49m\u001b[38;5;241;43m.\u001b[39;49m\u001b[43mdecode\u001b[49m\u001b[43m(\u001b[49m\u001b[38;5;124;43m\"\u001b[39;49m\u001b[38;5;124;43mutf-8\u001b[39;49m\u001b[38;5;124;43m\"\u001b[39;49m\u001b[43m)\u001b[49m\u001b[43m,\u001b[49m\n\u001b[1;32m    410\u001b[0m \u001b[43m        \u001b[49m\u001b[43mresult\u001b[49m\u001b[38;5;241;43m.\u001b[39;49m\u001b[43mstatus_code\u001b[49m\u001b[43m,\u001b[49m\n\u001b[1;32m    411\u001b[0m \u001b[43m        \u001b[49m\u001b[43mresult\u001b[49m\u001b[38;5;241;43m.\u001b[39;49m\u001b[43mheaders\u001b[49m\u001b[43m,\u001b[49m\n\u001b[1;32m    412\u001b[0m \u001b[43m    \u001b[49m\u001b[43m)\u001b[49m\n",
      "File \u001b[0;32m~/anaconda3/envs/lm_mentor/lib/python3.9/site-packages/voyageai/api_resources/api_requestor.py:463\u001b[0m, in \u001b[0;36mAPIRequestor._interpret_response_line\u001b[0;34m(self, rbody, rcode, rheaders)\u001b[0m\n\u001b[1;32m    461\u001b[0m resp \u001b[38;5;241m=\u001b[39m VoyageHttpResponse(data, rheaders)\n\u001b[1;32m    462\u001b[0m \u001b[38;5;28;01mif\u001b[39;00m \u001b[38;5;241m400\u001b[39m \u001b[38;5;241m<\u001b[39m\u001b[38;5;241m=\u001b[39m rcode \u001b[38;5;241m<\u001b[39m \u001b[38;5;241m500\u001b[39m:\n\u001b[0;32m--> 463\u001b[0m     \u001b[38;5;28;01mraise\u001b[39;00m \u001b[38;5;28mself\u001b[39m\u001b[38;5;241m.\u001b[39mhandle_error_response(rbody, rcode, resp\u001b[38;5;241m.\u001b[39mdata, rheaders)\n\u001b[1;32m    464\u001b[0m \u001b[38;5;28;01mreturn\u001b[39;00m resp\n",
      "\u001b[0;31mInvalidRequestError\u001b[0m: Request to model 'voyage-large-2-instruct' failed. The example at index 2 in your batch has too many tokens and does not fit into the model's context window of 16000 tokens. Please lower the number of tokens in the listed example(s) or use truncation."
     ]
    }
   ],
   "source": [
    "from langchain_chroma import Chroma\n",
    "from langchain_voyageai import VoyageAIEmbeddings\n",
    "import dotenv\n",
    "import chromadb\n",
    "from chromadb.config import DEFAULT_TENANT, DEFAULT_DATABASE, Settings\n",
    "\n",
    "\n",
    "dotenv.load_dotenv()\n",
    "new_client = chromadb.PersistentClient(path = \"./chroma_db\", tenant = DEFAULT_TENANT, database = DEFAULT_DATABASE, settings = Settings())\n",
    "\n",
    "embeddings = VoyageAIEmbeddings(\n",
    "    voyage_api_key=dotenv.get_key(dotenv_path= \".env\", key_to_get = \"VOYAGEAI_KEY\") , model=\"voyage-large-2-instruct\")\n",
    "\n",
    "vectorstore = Chroma.from_documents(documents=combined_chunks, embedding=embeddings, collection_name=\"umich_fa2024\", client=new_client)"
   ]
  },
  {
   "cell_type": "code",
   "execution_count": 61,
   "metadata": {},
   "outputs": [
    {
     "data": {
      "text/plain": [
       "3504"
      ]
     },
     "execution_count": 61,
     "metadata": {},
     "output_type": "execute_result"
    }
   ],
   "source": [
    "# find the index of the document with the longest page_content\n",
    "max_length = 0\n",
    "max_index = 0\n",
    "for i, doc in enumerate(combined_chunks):\n",
    "    if len(doc.page_content) > max_length:\n",
    "        max_length = len(doc.page_content)\n",
    "        max_index = i\n",
    "max_index"
   ]
  },
  {
   "cell_type": "code",
   "execution_count": 65,
   "metadata": {},
   "outputs": [
    {
     "name": "stdout",
     "output_type": "stream",
     "text": [
      "Fall 2024 |  Regular Academic Session |  Architecture & Urban Planning |  24064 |  Urban Design (UD) |   712 |  1 |  UD Studio I |  LAB |  P R  |  M |  nan |  nan |  TH |  nan |  nan |  nan |  08/26/2024 |  12/09/2024 |  1-6PM |  3100 A&AB |  Cuellar |  6.00 | \n"
     ]
    }
   ],
   "source": [
    "print(combined_chunks[3505].page_content)"
   ]
  },
  {
   "cell_type": "code",
   "execution_count": 25,
   "metadata": {},
   "outputs": [],
   "source": [
    "saved_data_store = Chroma(persist_directory=\"./chroma_db\", collection_name=\"umich_fa2024\", embedding_function=embeddings)\n",
    "rag_retriver = saved_data_store.as_retriever()"
   ]
  },
  {
   "cell_type": "code",
   "execution_count": 21,
   "metadata": {},
   "outputs": [
    {
     "data": {
      "text/plain": [
       "[Document(metadata={'page': 180, 'source': 'rag_data/Umich_FA2024_course_description.pdf'}, page_content='(http://www .lsa.umich.edu/cg/cg_results.aspx?\\ntermArray=x_xx_2470&cgtype=ug&show=20&department=EECS&catalog=270)  | FA 2023\\n(http://www .lsa.umich.edu/cg/cg_results.aspx?\\ntermArray=x_xx_2460&cgtype=ug&show=20&department=EECS&catalog=270)  | SP 2023\\n(http://www .lsa.umich.edu/cg/cg_results.aspx?\\ntermArray=x_xx_2430&cgtype=ug&show=20&department=EECS&catalog=270)  | WN 2023\\n(http://www .lsa.umich.edu/cg/cg_results.aspx?\\ntermArray=x_xx_2420&cgtype=ug&show=20&department=EECS&catalog=270)  | FA 2022\\n(http://www .lsa.umich.edu/cg/cg_results.aspx?\\ntermArray=x_xx_2410&cgtype=ug&show=20&department=EECS&catalog=270)\\nEECS 280. Programming and Introductory Data Structures\\nENGR 101 or 151 or EECS 180 or 183 or ROB 102;(C or better , No OP/F). And fewer than 2 previous elections of EECS\\n280 (incl. grades of W & I). (Prerequisites enforced at registration.) MA TH 1 15. (MSA). (BS). May not be repeated for credit.'),\n",
       " Document(metadata={'page': 177, 'source': 'rag_data/Umich_FA2024_course_description.pdf'}, page_content='FA 2024  (http://www .lsa.umich.edu/cg/cg_results.aspx?\\ntermArray=x_xx_2510&cgtype=ug&show=20&department=EECS&catalog=200)  | WN 2024\\n(http://www .lsa.umich.edu/cg/cg_results.aspx?\\ntermArray=x_xx_2470&cgtype=ug&show=20&department=EECS&catalog=200)  | FA 2023\\n(http://www .lsa.umich.edu/cg/cg_results.aspx?\\ntermArray=x_xx_2460&cgtype=ug&show=20&department=EECS&catalog=200)  | WN 2023\\n(http://www .lsa.umich.edu/cg/cg_results.aspx?\\ntermArray=x_xx_2420&cgtype=ug&show=20&department=EECS&catalog=200)  | FA 2022\\n(http://www .lsa.umich.edu/cg/cg_results.aspx?\\ntermArray=x_xx_2410&cgtype=ug&show=20&department=EECS&catalog=200)\\nEECS 201. Computer Science Pragmatics\\n[ENGR 101 or 151 or EECS 180 or 183 or ROB 102 or (preceded or accompanied by EECS 280 or 281)]; (C or better; No\\nOP/F). (Prerequisites enforced at registration.) (BS). May not be repeated for credit.\\nDesigned to teach the essentials of using a computer ef fectively . Topics covered include shells, environment, scripting,'),\n",
       " Document(metadata={'page': 204, 'source': 'rag_data/Umich_FA2024_course_description.pdf'}, page_content='(http://www .lsa.umich.edu/cg/cg_results.aspx?\\ntermArray=x_xx_2470&cgtype=ug&show=20&department=EECS&catalog=485)  | FA 2023\\n(http://www .lsa.umich.edu/cg/cg_results.aspx?\\ntermArray=x_xx_2460&cgtype=ug&show=20&department=EECS&catalog=485)  | SP 2023\\n(http://www .lsa.umich.edu/cg/cg_results.aspx?\\ntermArray=x_xx_2430&cgtype=ug&show=20&department=EECS&catalog=485)  | WN 2023\\n(http://www .lsa.umich.edu/cg/cg_results.aspx?\\ntermArray=x_xx_2420&cgtype=ug&show=20&department=EECS&catalog=485)  | FA 2022\\n(http://www .lsa.umich.edu/cg/cg_results.aspx?\\ntermArray=x_xx_2410&cgtype=ug&show=20&department=EECS&catalog=485)\\nEECS 486. Information Retrieval and W eb Search\\nEECS 281; (C or better , No OP/F) or Graduate Standing in CSE. Enrollment in one minor elective allowed for Computer\\nScience Minors. (Prerequisites enforced at registration.) (BS). May not be repeated for credit.\\nCovers background and recent advances in information retrieval (IR): indexing, processing, querying, classifying data. Basic'),\n",
       " Document(metadata={'page': 189, 'source': 'rag_data/Umich_FA2024_course_description.pdf'}, page_content='(http://www .lsa.umich.edu/cg/cg_results.aspx?\\ntermArray=x_xx_2470&cgtype=ug&show=20&department=EECS&catalog=399)  | FA 2023\\n(http://www .lsa.umich.edu/cg/cg_results.aspx?\\ntermArray=x_xx_2460&cgtype=ug&show=20&department=EECS&catalog=399)  | SU 2023\\n(http://www .lsa.umich.edu/cg/cg_results.aspx?\\ntermArray=x_xx_2450&cgtype=ug&show=20&department=EECS&catalog=399)  | SS 2023\\n(http://www .lsa.umich.edu/cg/cg_results.aspx?\\ntermArray=x_xx_2440&cgtype=ug&show=20&department=EECS&catalog=399)  | SP 2023\\n(http://www .lsa.umich.edu/cg/cg_results.aspx?\\ntermArray=x_xx_2430&cgtype=ug&show=20&department=EECS&catalog=399)  | WN 2023\\n(http://www .lsa.umich.edu/cg/cg_results.aspx?\\ntermArray=x_xx_2420&cgtype=ug&show=20&department=EECS&catalog=399)  | FA 2022\\n(http://www .lsa.umich.edu/cg/cg_results.aspx?\\ntermArray=x_xx_2410&cgtype=ug&show=20&department=EECS&catalog=399)\\nEECS 409. Data Science Seminar\\n(BS). May not be repeated for credit. This course has a grading basis of \"S\" or \"U\". (Non-LSA  credit).'),\n",
       " Document(metadata={'page': 180, 'source': 'rag_data/Umich_FA2024_course_description.pdf'}, page_content='(http://www .lsa.umich.edu/cg/cg_results.aspx?\\ntermArray=x_xx_2480&cgtype=ug&show=20&department=EECS&catalog=280)  | WN 2024\\n(http://www .lsa.umich.edu/cg/cg_results.aspx?\\ntermArray=x_xx_2470&cgtype=ug&show=20&department=EECS&catalog=280)  | FA 2023\\n(http://www .lsa.umich.edu/cg/cg_results.aspx?\\ntermArray=x_xx_2460&cgtype=ug&show=20&department=EECS&catalog=280)  | SP 2023\\n(http://www .lsa.umich.edu/cg/cg_results.aspx?\\ntermArray=x_xx_2430&cgtype=ug&show=20&department=EECS&catalog=280)  | WN 2023\\n(http://www .lsa.umich.edu/cg/cg_results.aspx?\\ntermArray=x_xx_2420&cgtype=ug&show=20&department=EECS&catalog=280)  | FA 2022\\n(http://www .lsa.umich.edu/cg/cg_results.aspx?\\ntermArray=x_xx_2410&cgtype=ug&show=20&department=EECS&catalog=280)7/26/24, 9:51 PM webapps.lsa.umich.edu/CrsMaint/Public/CB_PublicBulletin.aspx?crselevel=ug\\nhttps://webapps.lsa.umich.edu/CrsMaint/Public/CB_PublicBulletin.aspx?crselevel=ug 181/401'),\n",
       " Document(metadata={'page': 176, 'source': 'rag_data/Umich_FA2024_course_description.pdf'}, page_content='EECS 1 10. Discover Computer Science\\n(BS). May not be repeated for credit.\\nIntroduction to basic CS concepts (variables, conditionals, loops, functions) using an introductory programming language,\\nsuch a Python. Students interact with researchers and computing professionals to learn about real-world, interdisciplinary\\napplications of CS. Intended for students without prior programming experience to (optionally take prior to EECS 183 or\\nENGR 101.\\nFA 2024  (http://www .lsa.umich.edu/cg/cg_results.aspx?\\ntermArray=x_xx_2510&cgtype=ug&show=20&department=EECS&catalog=1 10) | WN 2024\\n(http://www .lsa.umich.edu/cg/cg_results.aspx?\\ntermArray=x_xx_2470&cgtype=ug&show=20&department=EECS&catalog=1 10) | FA 2023\\n(http://www .lsa.umich.edu/cg/cg_results.aspx?\\ntermArray=x_xx_2460&cgtype=ug&show=20&department=EECS&catalog=1 10) | WN 2023\\n(http://www .lsa.umich.edu/cg/cg_results.aspx?\\ntermArray=x_xx_2420&cgtype=ug&show=20&department=EECS&catalog=1 10) | FA 2022'),\n",
       " Document(metadata={'page': 205, 'source': 'rag_data/Umich_FA2024_course_description.pdf'}, page_content='(http://www .lsa.umich.edu/cg/cg_results.aspx?\\ntermArray=x_xx_2470&cgtype=ug&show=20&department=EECS&catalog=489)  | FA 2023\\n(http://www .lsa.umich.edu/cg/cg_results.aspx?\\ntermArray=x_xx_2460&cgtype=ug&show=20&department=EECS&catalog=489)  | WN 2023\\n(http://www .lsa.umich.edu/cg/cg_results.aspx?\\ntermArray=x_xx_2420&cgtype=ug&show=20&department=EECS&catalog=489)\\nEECS 490. Programming Languages\\nEECS 281; (C or better , No OP/F) or Graduate Standing in CSE. Enrollment in one minor elective allowed for Computer\\nScience Minors. (Prerequisites enforced at registration.) (BS). May not be repeated for credit. W .\\nProgramming languages are rich mathematical structures and powerful user interfaces. Students will learn about modern\\nlanguages from the perspective of both language designers and users, building up from mathematical first principles, and\\ncovering human factors in language design, language prototyping, and techniques for reasoning about program behavior .'),\n",
       " Document(metadata={'page': 176, 'source': 'rag_data/Umich_FA2024_course_description.pdf'}, page_content='(http://www .lsa.umich.edu/cg/cg_results.aspx?\\ntermArray=x_xx_2420&cgtype=ug&show=20&department=EECS&catalog=1 10) | FA 2022\\n(http://www .lsa.umich.edu/cg/cg_results.aspx?\\ntermArray=x_xx_2410&cgtype=ug&show=20&department=EECS&catalog=1 10)\\nEECS 183. Elementary Programming Concepts\\n(4). (MSA). (BS). (QR/1). May not be repeated for credit. Credit is granted for only one course among EECS 183 or ENGR\\n101. Credit is granted for only one of ENGR 151 and EECS 183. Not intended for Engineering students (who should take\\nENGR 101), nor for Computer Science majors in LSA  who qualify to enter EECS 280. F , W, Sp.\\nFundamental concepts and skills of programming in a high level language. Flow of control: selection, iteration, subprograms.\\nData structures: strings, arrays, records, lists, tables. Algorithms using selection and iteration (decision making, finding\\nmaxima/minima, searching, sorting, simulation, etc.). Good program design, structure, and style are emphasized. Testing'),\n",
       " Document(metadata={'page': 197, 'source': 'rag_data/Umich_FA2024_course_description.pdf'}, page_content='EECS 453. Principles of Machine Learning\\nEECS 280 and (ST ATS 250 or 280 or 412 or 426 or EECS 301 or IOE 265 or T O 301) and (EECS 351 or MA TH 214 or 217\\nor 296 or 417 or 419 or ROB 101); (C or better , No OP/F). (Prerequisites enforced at registration.) (BS). May not be\\nrepeated for credit. (Non-LSA  credit).\\nCovers fundamental principles of machine learning, including unsupervised learning (e.g., clustering, mixture models,\\ndimension reduction), supervised learning (e.g., regression, classification, neural networks and deep learning), and\\nreinforcement learning. For each topic, mathematical principles, key algorithmic ideas, and basic theoretical insights will be\\nhighlighted.\\nFA 2024  (http://www .lsa.umich.edu/cg/cg_results.aspx?\\ntermArray=x_xx_2510&cgtype=ug&show=20&department=EECS&catalog=453)  | FA 2023\\n(http://www .lsa.umich.edu/cg/cg_results.aspx?\\ntermArray=x_xx_2460&cgtype=ug&show=20&department=EECS&catalog=453)\\nEECS 455. W ireless Communication Systems'),\n",
       " Document(metadata={'page': 208, 'source': 'rag_data/Umich_FA2024_course_description.pdf'}, page_content='(http://www .lsa.umich.edu/cg/cg_results.aspx?\\ntermArray=x_xx_2470&cgtype=ug&show=20&department=EECS&catalog=497)  | FA 2023\\n(http://www .lsa.umich.edu/cg/cg_results.aspx?\\ntermArray=x_xx_2460&cgtype=ug&show=20&department=EECS&catalog=497)  | SP 2023\\n(http://www .lsa.umich.edu/cg/cg_results.aspx?\\ntermArray=x_xx_2430&cgtype=ug&show=20&department=EECS&catalog=497)  | WN 2023\\n(http://www .lsa.umich.edu/cg/cg_results.aspx?\\ntermArray=x_xx_2420&cgtype=ug&show=20&department=EECS&catalog=497)  | FA 2022\\n(http://www .lsa.umich.edu/cg/cg_results.aspx?\\ntermArray=x_xx_2410&cgtype=ug&show=20&department=EECS&catalog=497)\\nEECS 498. Special T opics\\nPermission of instructor . (1 - 4). (BS). May be repeated for credit.\\nTopics of current interest selected by faculty .\\nFA 2024  (http://www .lsa.umich.edu/cg/cg_results.aspx?\\ntermArray=x_xx_2510&cgtype=ug&show=20&department=EECS&catalog=498)  | SS 2024\\n(http://www .lsa.umich.edu/cg/cg_results.aspx?')]"
      ]
     },
     "execution_count": 21,
     "metadata": {},
     "output_type": "execute_result"
    }
   ],
   "source": [
    "docs"
   ]
  },
  {
   "cell_type": "code",
   "execution_count": 22,
   "metadata": {},
   "outputs": [],
   "source": [
    "retriever = vectorstore.as_retriever(search_type=\"similarity\", search_kwargs={\"k\": 6})\n",
    "retreived_docs = retriever.invoke(\"What time are EECS classes next semester?\")"
   ]
  },
  {
   "cell_type": "code",
   "execution_count": 23,
   "metadata": {},
   "outputs": [
    {
     "data": {
      "text/plain": [
       "[Document(metadata={'page': 179, 'source': 'rag_data/Umich_FA2024_course_description.pdf'}, page_content='(http://www .lsa.umich.edu/cg/cg_results.aspx?\\ntermArray=x_xx_2460&cgtype=ug&show=20&department=EECS&catalog=230)  | WN 2023\\n(http://www .lsa.umich.edu/cg/cg_results.aspx?\\ntermArray=x_xx_2420&cgtype=ug&show=20&department=EECS&catalog=230)  | FA 2022\\n(http://www .lsa.umich.edu/cg/cg_results.aspx?\\ntermArray=x_xx_2410&cgtype=ug&show=20&department=EECS&catalog=230)7/26/24, 9:51 PM webapps.lsa.umich.edu/CrsMaint/Public/CB_PublicBulletin.aspx?crselevel=ug\\nhttps://webapps.lsa.umich.edu/CrsMaint/Public/CB_PublicBulletin.aspx?crselevel=ug 180/401'),\n",
       " Document(metadata={'page': 191, 'source': 'rag_data/Umich_FA2024_course_description.pdf'}, page_content='(http://www .lsa.umich.edu/cg/cg_results.aspx?\\ntermArray=x_xx_2460&cgtype=ug&show=20&department=EECS&catalog=423)  | FA 2022\\n(http://www .lsa.umich.edu/cg/cg_results.aspx?\\ntermArray=x_xx_2410&cgtype=ug&show=20&department=EECS&catalog=423)7/26/24, 9:51 PM webapps.lsa.umich.edu/CrsMaint/Public/CB_PublicBulletin.aspx?crselevel=ug\\nhttps://webapps.lsa.umich.edu/CrsMaint/Public/CB_PublicBulletin.aspx?crselevel=ug 192/401'),\n",
       " Document(metadata={'page': 202, 'source': 'rag_data/Umich_FA2024_course_description.pdf'}, page_content='(http://www .lsa.umich.edu/cg/cg_results.aspx?\\ntermArray=x_xx_2420&cgtype=ug&show=20&department=EECS&catalog=482)  | FA 2022\\n(http://www .lsa.umich.edu/cg/cg_results.aspx?\\ntermArray=x_xx_2410&cgtype=ug&show=20&department=EECS&catalog=482)7/26/24, 9:51 PM webapps.lsa.umich.edu/CrsMaint/Public/CB_PublicBulletin.aspx?crselevel=ug\\nhttps://webapps.lsa.umich.edu/CrsMaint/Public/CB_PublicBulletin.aspx?crselevel=ug 203/401'),\n",
       " Document(metadata={'page': 206, 'source': 'rag_data/Umich_FA2024_course_description.pdf'}, page_content='(http://www .lsa.umich.edu/cg/cg_results.aspx?\\ntermArray=x_xx_2420&cgtype=ug&show=20&department=EECS&catalog=494)  | FA 2022\\n(http://www .lsa.umich.edu/cg/cg_results.aspx?\\ntermArray=x_xx_2410&cgtype=ug&show=20&department=EECS&catalog=494)7/26/24, 9:51 PM webapps.lsa.umich.edu/CrsMaint/Public/CB_PublicBulletin.aspx?crselevel=ug\\nhttps://webapps.lsa.umich.edu/CrsMaint/Public/CB_PublicBulletin.aspx?crselevel=ug 207/401'),\n",
       " Document(metadata={'page': 187, 'source': 'rag_data/Umich_FA2024_course_description.pdf'}, page_content='(http://www .lsa.umich.edu/cg/cg_results.aspx?\\ntermArray=x_xx_2420&cgtype=ug&show=20&department=EECS&catalog=376)  | FA 2022\\n(http://www .lsa.umich.edu/cg/cg_results.aspx?\\ntermArray=x_xx_2410&cgtype=ug&show=20&department=EECS&catalog=376)7/26/24, 9:51 PM webapps.lsa.umich.edu/CrsMaint/Public/CB_PublicBulletin.aspx?crselevel=ug\\nhttps://webapps.lsa.umich.edu/CrsMaint/Public/CB_PublicBulletin.aspx?crselevel=ug 188/401'),\n",
       " Document(metadata={'page': 181, 'source': 'rag_data/Umich_FA2024_course_description.pdf'}, page_content='(http://www .lsa.umich.edu/cg/cg_results.aspx?\\ntermArray=x_xx_2420&cgtype=ug&show=20&department=EECS&catalog=298)  | FA 2022\\n(http://www .lsa.umich.edu/cg/cg_results.aspx?\\ntermArray=x_xx_2410&cgtype=ug&show=20&department=EECS&catalog=298)7/26/24, 9:51 PM webapps.lsa.umich.edu/CrsMaint/Public/CB_PublicBulletin.aspx?crselevel=ug\\nhttps://webapps.lsa.umich.edu/CrsMaint/Public/CB_PublicBulletin.aspx?crselevel=ug 182/401')]"
      ]
     },
     "execution_count": 23,
     "metadata": {},
     "output_type": "execute_result"
    }
   ],
   "source": [
    "retreived_docs"
   ]
  },
  {
   "cell_type": "code",
   "execution_count": 44,
   "metadata": {},
   "outputs": [],
   "source": [
    "from langchain_anthropic import ChatAnthropic\n",
    "import bs4\n",
    "from langchain.chains import create_history_aware_retriever, create_retrieval_chain\n",
    "from langchain.chains.combine_documents import create_stuff_documents_chain\n",
    "from langchain_chroma import Chroma\n",
    "from langchain_community.chat_message_histories import ChatMessageHistory\n",
    "from langchain_community.document_loaders import WebBaseLoader\n",
    "from langchain_core.chat_history import BaseChatMessageHistory\n",
    "from langchain_core.prompts import ChatPromptTemplate, MessagesPlaceholder\n",
    "from langchain_core.runnables.history import RunnableWithMessageHistory\n",
    "from langchain_text_splitters import RecursiveCharacterTextSplitter\n",
    "\n",
    "llm = ChatAnthropic(temperature=0.7, model_name = \"claude-3-sonnet-20240229\", api_key=dotenv.get_key(dotenv_path= \".env\", key_to_get = \"ANTHROPIC_KEY\"))\n",
    "\n",
    "vector_store2 = Chroma(persist_directory=\"./chroma_db\", client=new_client, collection_name=\"umich_fa2024\", embedding_function=embeddings)\n",
    "retriever = vector_store2.as_retriever(search_type=\"similarity\", search_kwargs={\"k\": 10})\n",
    "\n",
    "def format_docs(docs):\n",
    "    return \"\\n\\n\".join(doc.page_content for doc in docs)\n",
    "\n",
    "# rag_chain = (\n",
    "#     {\"context\": retriever | format_docs, \"question\": RunnablePassthrough()}\n",
    "#     | prompt\n",
    "#     | llm\n",
    "#     | StrOutputParser()\n",
    "# )\n",
    "\n",
    "\n",
    "from langchain.chains import create_history_aware_retriever\n",
    "from langchain_core.prompts import ChatPromptTemplate, MessagesPlaceholder\n",
    "\n",
    "contextualize_q_system_prompt = \"\"\"Given a chat history and the latest user question \\\n",
    "which might reference context in the chat history, formulate a standalone question \\\n",
    "which can be understood without the chat history. Do NOT answer the question, \\\n",
    "just reformulate it if needed and otherwise return it as is.\"\"\"\n",
    "\n",
    "contextualize_q_prompt = ChatPromptTemplate.from_messages(\n",
    "    [\n",
    "        (\"system\", contextualize_q_system_prompt),\n",
    "        MessagesPlaceholder(\"chat_history\"),\n",
    "        (\"human\", \"{input}\"),\n",
    "    ]\n",
    ")\n",
    "history_aware_retriever = create_history_aware_retriever(\n",
    "    llm, retriever, contextualize_q_prompt\n",
    ")\n",
    "\n",
    "qa_system_prompt = \"\"\"Role and Purpose:\n",
    "You are LM Mentor, a knowledgeable and empathetic mentor, counselor, and companion designed to assist University of Michigan students in planning their academic journeys. Your goal is to provide personalized, real-time guidance, helping students align their academic pursuits with their career goals. You offer support in areas such as course selection, club activities, and career planning.\n",
    "\n",
    "Instructions for Interaction:\n",
    "\n",
    "\t•\tGreet and Engage: Start by greeting the student warmly and asking how you can assist them today.\n",
    "\t•\tGather Detailed Information: Ask a series of detailed questions to understand the student’s academic goals, interests, current courses, extracurricular activities, and any specific challenges they are facing.\n",
    "\t•\tUtilize Chat History and RAG Data: Leverage the chat history and retrieval-augmented generation (RAG) data to provide contextually relevant and up-to-date information in your responses.\n",
    "\t•\tStructured Information Display: Present the gathered information and your recommendations in a structured format, such as a chart or table.\n",
    "\t•\tProvide Personalized Guidance: Use the student’s responses and the RAG data to offer tailored advice on courses, extracurricular activities, and career paths.\n",
    "\t•\tEncourage and Support: Offer encouragement and positive reinforcement, helping students stay motivated and confident in their choices.\n",
    "\t•\tFollow-up Questions: Engage in follow-up questions to refine your advice and ensure the student’s needs are fully addressed.\n",
    "\t•\tSummarize and Plan: Summarize the conversation and suggest actionable next steps for the student to take.\n",
    "\n",
    "Example Interaction:\n",
    "\n",
    "Greeting:\n",
    "“Hello! I’m LM Mentor, your personal academic guide. How can I assist you today with your academic and career planning?”\n",
    "\n",
    "Questions to Ask:\n",
    "\n",
    "\t1.\t“What are your academic and career goals?”\n",
    "\t2.\t“Are there any specific courses or areas of study you are interested in?”\n",
    "\t3.\t“What courses are you currently enrolled in?”\n",
    "\t4.\t“Do you participate in any extracurricular activities or clubs?”\n",
    "\t5.\t“What challenges are you currently facing in your academic journey?”\n",
    "\t6.\t“Do you have any specific career aspirations or industries you are interested in?”\n",
    "\n",
    "Incorporating RAG Data:\n",
    "“Based on the information you’ve provided and the latest data from UMich, here is a summary of your current status and my recommendations:\n",
    "“Based on your interest in [field], I recommend considering courses like [Course A] and [Course B]. These will help you build a strong foundation in [subject]. Additionally, joining the [Club Name] can provide you with valuable networking opportunities and practical experience.”\n",
    "\n",
    "Encouragement:\n",
    "“You’re doing a great job! Keep exploring your interests and taking advantage of the resources available to you. Remember, every step you take brings you closer to your goals.”\n",
    "\n",
    "Follow-up Questions:\n",
    "“Would you like more information on any specific course or activity? Or perhaps advice on managing your time effectively?”\n",
    "\n",
    "Summary and Plan:\n",
    "“To summarize, focus on enrolling in [Course A] and [Course B], and join the [Club Name]. Keep in touch if you have any further questions or need more guidance. Good luck!”\n",
    "\n",
    "{context}\"\"\"\n",
    "\n",
    "qa_prompt = ChatPromptTemplate.from_messages(\n",
    "    [\n",
    "        (\"system\", qa_system_prompt),\n",
    "        MessagesPlaceholder(\"chat_history\"),\n",
    "        (\"human\", \"{input}\"),\n",
    "    ]\n",
    ")\n",
    "question_answer_chain = create_stuff_documents_chain(llm, qa_prompt)\n",
    "\n",
    "rag_chain = create_retrieval_chain(history_aware_retriever, question_answer_chain)\n",
    "\n",
    "store = {}\n",
    "\n",
    "\n",
    "def get_session_history(session_id: str) -> BaseChatMessageHistory:\n",
    "    if session_id not in store:\n",
    "        store[session_id] = ChatMessageHistory()\n",
    "    return store[session_id]\n",
    "\n",
    "\n",
    "conversational_rag_chain = RunnableWithMessageHistory(\n",
    "    rag_chain,\n",
    "    get_session_history,\n",
    "    input_messages_key=\"input\",\n",
    "    history_messages_key=\"chat_history\",\n",
    "    output_messages_key=\"answer\",\n",
    ")\n",
    "\n",
    "reponse = conversational_rag_chain.invoke(\n",
    "    {\"input\": \"What EECS classes to take next semester?\"},\n",
    "    config={\n",
    "        \"configurable\": {\"session_id\": \"abc123\"}\n",
    "    },  # constructs a key \"abc123\" in `store`.\n",
    ")[\"answer\"]"
   ]
  },
  {
   "cell_type": "code",
   "execution_count": 45,
   "metadata": {},
   "outputs": [
    {
     "data": {
      "text/plain": [
       "\"To provide personalized recommendations on which EECS classes to take next semester, I'll need to ask you some questions to better understand your academic goals, interests, and current standing. Here are some questions that would be helpful:\\n\\n1. What is your current year/level (freshman, sophomore, junior, senior)?\\n2. What is your intended major/program of study? \\n3. Have you already declared your major in EECS or a related field?\\n4. What EECS courses have you completed so far?\\n5. Are there any particular areas within EECS that you're most interested in (e.g. computer science, computer engineering, data science, etc.)?\\n6. Do you have any specific career goals you're working towards?\\n7. Are you looking to take primarily major requirements, electives, or a mix next semester?\\n\\nGetting details on your background, completed coursework, interests, and goals will allow me to suggest EECS courses that best align with your academic plan and aspirations. Please provide as much relevant information as possible so I can make tailored recommendations.\""
      ]
     },
     "execution_count": 45,
     "metadata": {},
     "output_type": "execute_result"
    }
   ],
   "source": [
    "reponse"
   ]
  }
 ],
 "metadata": {
  "kernelspec": {
   "display_name": "lm_mentor",
   "language": "python",
   "name": "python3"
  },
  "language_info": {
   "codemirror_mode": {
    "name": "ipython",
    "version": 3
   },
   "file_extension": ".py",
   "mimetype": "text/x-python",
   "name": "python",
   "nbconvert_exporter": "python",
   "pygments_lexer": "ipython3",
   "version": "3.9.19"
  }
 },
 "nbformat": 4,
 "nbformat_minor": 2
}
