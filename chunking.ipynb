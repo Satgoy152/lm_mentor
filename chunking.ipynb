{
 "cells": [
  {
   "cell_type": "code",
   "execution_count": 110,
   "metadata": {},
   "outputs": [
    {
     "name": "stdout",
     "output_type": "stream",
     "text": [
      "Loading PDFs\n",
      "Loaded subject mapping\n"
     ]
    }
   ],
   "source": [
    "from langchain_community.document_loaders import PyPDFLoader\n",
    "from langchain_community.document_loaders import UnstructuredMarkdownLoader\n",
    "\n",
    "\n",
    "#loading pdfs\n",
    "# old method\n",
    "print(\"Loading PDFs\")\n",
    "# print(\"Course description...\", end=\"\\r\", flush=True)\n",
    "# pdf_loader = PyPDFLoader(\"rag_data/Umich_FA2024_course_description.pdf\")\n",
    "# course_description_text = pdf_loader.load()\n",
    "# print(\"Loaded course description\")\n",
    "# print(\"Degree requirements...\", end=\"\\r\", flush=True)\n",
    "# pdf_loader = PyPDFLoader(\"rag_data/Umich_FA2024_LSA_degree_requ.pdf\")\n",
    "# degree_requirements_text = pdf_loader.load()\n",
    "# print(\"Loaded degree requirements\")\n",
    "# print(\"Major minor description...\", end=\"\\r\", flush=True)\n",
    "# pdf_loader = PyPDFLoader(\"rag_data/Umich_FA2024_major_minor_description.pdf\")\n",
    "# major_minor_description_text = pdf_loader.load()\n",
    "# print(\"Loaded major minor description\")\n",
    "\n",
    "# print(\"Subject mapping...\", end=\"\\r\", flush=True)\n",
    "# pdf_loader = PyPDFLoader(\"rag_data/Umich_FA2024_subject_mapping.pdf\")\n",
    "# subject_mapping_text = pdf_loader.load()\n",
    "# print(\"Loaded subject mapping\")"
   ]
  },
  {
   "cell_type": "code",
   "execution_count": 118,
   "metadata": {},
   "outputs": [
    {
     "ename": "KeyError",
     "evalue": "'text'",
     "output_type": "error",
     "traceback": [
      "\u001b[0;31m---------------------------------------------------------------------------\u001b[0m",
      "\u001b[0;31mKeyError\u001b[0m                                  Traceback (most recent call last)",
      "File \u001b[0;32m~/anaconda3/envs/lm_mentor/lib/python3.9/site-packages/pandas/core/indexes/base.py:3805\u001b[0m, in \u001b[0;36mIndex.get_loc\u001b[0;34m(self, key)\u001b[0m\n\u001b[1;32m   3804\u001b[0m \u001b[38;5;28;01mtry\u001b[39;00m:\n\u001b[0;32m-> 3805\u001b[0m     \u001b[38;5;28;01mreturn\u001b[39;00m \u001b[38;5;28;43mself\u001b[39;49m\u001b[38;5;241;43m.\u001b[39;49m\u001b[43m_engine\u001b[49m\u001b[38;5;241;43m.\u001b[39;49m\u001b[43mget_loc\u001b[49m\u001b[43m(\u001b[49m\u001b[43mcasted_key\u001b[49m\u001b[43m)\u001b[49m\n\u001b[1;32m   3806\u001b[0m \u001b[38;5;28;01mexcept\u001b[39;00m \u001b[38;5;167;01mKeyError\u001b[39;00m \u001b[38;5;28;01mas\u001b[39;00m err:\n",
      "File \u001b[0;32mindex.pyx:167\u001b[0m, in \u001b[0;36mpandas._libs.index.IndexEngine.get_loc\u001b[0;34m()\u001b[0m\n",
      "File \u001b[0;32mindex.pyx:196\u001b[0m, in \u001b[0;36mpandas._libs.index.IndexEngine.get_loc\u001b[0;34m()\u001b[0m\n",
      "File \u001b[0;32mpandas/_libs/hashtable_class_helper.pxi:7081\u001b[0m, in \u001b[0;36mpandas._libs.hashtable.PyObjectHashTable.get_item\u001b[0;34m()\u001b[0m\n",
      "File \u001b[0;32mpandas/_libs/hashtable_class_helper.pxi:7089\u001b[0m, in \u001b[0;36mpandas._libs.hashtable.PyObjectHashTable.get_item\u001b[0;34m()\u001b[0m\n",
      "\u001b[0;31mKeyError\u001b[0m: 'text'",
      "\nThe above exception was the direct cause of the following exception:\n",
      "\u001b[0;31mKeyError\u001b[0m                                  Traceback (most recent call last)",
      "Cell \u001b[0;32mIn[118], line 13\u001b[0m\n\u001b[1;32m     11\u001b[0m \u001b[38;5;66;03m# create list of langchain documents\u001b[39;00m\n\u001b[1;32m     12\u001b[0m loader \u001b[38;5;241m=\u001b[39m DataFrameLoader(dfs[\u001b[38;5;241m2\u001b[39m])\n\u001b[0;32m---> 13\u001b[0m course_schedule_text \u001b[38;5;241m=\u001b[39m \u001b[43mloader\u001b[49m\u001b[38;5;241;43m.\u001b[39;49m\u001b[43mload\u001b[49m\u001b[43m(\u001b[49m\u001b[43m)\u001b[49m\n",
      "File \u001b[0;32m~/anaconda3/envs/lm_mentor/lib/python3.9/site-packages/langchain_core/document_loaders/base.py:30\u001b[0m, in \u001b[0;36mBaseLoader.load\u001b[0;34m(self)\u001b[0m\n\u001b[1;32m     28\u001b[0m \u001b[38;5;28;01mdef\u001b[39;00m \u001b[38;5;21mload\u001b[39m(\u001b[38;5;28mself\u001b[39m) \u001b[38;5;241m-\u001b[39m\u001b[38;5;241m>\u001b[39m List[Document]:\n\u001b[1;32m     29\u001b[0m \u001b[38;5;250m    \u001b[39m\u001b[38;5;124;03m\"\"\"Load data into Document objects.\"\"\"\u001b[39;00m\n\u001b[0;32m---> 30\u001b[0m     \u001b[38;5;28;01mreturn\u001b[39;00m \u001b[38;5;28;43mlist\u001b[39;49m\u001b[43m(\u001b[49m\u001b[38;5;28;43mself\u001b[39;49m\u001b[38;5;241;43m.\u001b[39;49m\u001b[43mlazy_load\u001b[49m\u001b[43m(\u001b[49m\u001b[43m)\u001b[49m\u001b[43m)\u001b[49m\n",
      "File \u001b[0;32m~/anaconda3/envs/lm_mentor/lib/python3.9/site-packages/langchain_community/document_loaders/dataframe.py:24\u001b[0m, in \u001b[0;36mBaseDataFrameLoader.lazy_load\u001b[0;34m(self)\u001b[0m\n\u001b[1;32m     21\u001b[0m \u001b[38;5;250m\u001b[39m\u001b[38;5;124;03m\"\"\"Lazy load records from dataframe.\"\"\"\u001b[39;00m\n\u001b[1;32m     23\u001b[0m \u001b[38;5;28;01mfor\u001b[39;00m _, row \u001b[38;5;129;01min\u001b[39;00m \u001b[38;5;28mself\u001b[39m\u001b[38;5;241m.\u001b[39mdata_frame\u001b[38;5;241m.\u001b[39miterrows():\n\u001b[0;32m---> 24\u001b[0m     text \u001b[38;5;241m=\u001b[39m \u001b[43mrow\u001b[49m\u001b[43m[\u001b[49m\u001b[38;5;28;43mself\u001b[39;49m\u001b[38;5;241;43m.\u001b[39;49m\u001b[43mpage_content_column\u001b[49m\u001b[43m]\u001b[49m\n\u001b[1;32m     25\u001b[0m     metadata \u001b[38;5;241m=\u001b[39m row\u001b[38;5;241m.\u001b[39mto_dict()\n\u001b[1;32m     26\u001b[0m     metadata\u001b[38;5;241m.\u001b[39mpop(\u001b[38;5;28mself\u001b[39m\u001b[38;5;241m.\u001b[39mpage_content_column)\n",
      "File \u001b[0;32m~/anaconda3/envs/lm_mentor/lib/python3.9/site-packages/pandas/core/series.py:1121\u001b[0m, in \u001b[0;36mSeries.__getitem__\u001b[0;34m(self, key)\u001b[0m\n\u001b[1;32m   1118\u001b[0m     \u001b[38;5;28;01mreturn\u001b[39;00m \u001b[38;5;28mself\u001b[39m\u001b[38;5;241m.\u001b[39m_values[key]\n\u001b[1;32m   1120\u001b[0m \u001b[38;5;28;01melif\u001b[39;00m key_is_scalar:\n\u001b[0;32m-> 1121\u001b[0m     \u001b[38;5;28;01mreturn\u001b[39;00m \u001b[38;5;28;43mself\u001b[39;49m\u001b[38;5;241;43m.\u001b[39;49m\u001b[43m_get_value\u001b[49m\u001b[43m(\u001b[49m\u001b[43mkey\u001b[49m\u001b[43m)\u001b[49m\n\u001b[1;32m   1123\u001b[0m \u001b[38;5;66;03m# Convert generator to list before going through hashable part\u001b[39;00m\n\u001b[1;32m   1124\u001b[0m \u001b[38;5;66;03m# (We will iterate through the generator there to check for slices)\u001b[39;00m\n\u001b[1;32m   1125\u001b[0m \u001b[38;5;28;01mif\u001b[39;00m is_iterator(key):\n",
      "File \u001b[0;32m~/anaconda3/envs/lm_mentor/lib/python3.9/site-packages/pandas/core/series.py:1237\u001b[0m, in \u001b[0;36mSeries._get_value\u001b[0;34m(self, label, takeable)\u001b[0m\n\u001b[1;32m   1234\u001b[0m     \u001b[38;5;28;01mreturn\u001b[39;00m \u001b[38;5;28mself\u001b[39m\u001b[38;5;241m.\u001b[39m_values[label]\n\u001b[1;32m   1236\u001b[0m \u001b[38;5;66;03m# Similar to Index.get_value, but we do not fall back to positional\u001b[39;00m\n\u001b[0;32m-> 1237\u001b[0m loc \u001b[38;5;241m=\u001b[39m \u001b[38;5;28;43mself\u001b[39;49m\u001b[38;5;241;43m.\u001b[39;49m\u001b[43mindex\u001b[49m\u001b[38;5;241;43m.\u001b[39;49m\u001b[43mget_loc\u001b[49m\u001b[43m(\u001b[49m\u001b[43mlabel\u001b[49m\u001b[43m)\u001b[49m\n\u001b[1;32m   1239\u001b[0m \u001b[38;5;28;01mif\u001b[39;00m is_integer(loc):\n\u001b[1;32m   1240\u001b[0m     \u001b[38;5;28;01mreturn\u001b[39;00m \u001b[38;5;28mself\u001b[39m\u001b[38;5;241m.\u001b[39m_values[loc]\n",
      "File \u001b[0;32m~/anaconda3/envs/lm_mentor/lib/python3.9/site-packages/pandas/core/indexes/base.py:3812\u001b[0m, in \u001b[0;36mIndex.get_loc\u001b[0;34m(self, key)\u001b[0m\n\u001b[1;32m   3807\u001b[0m     \u001b[38;5;28;01mif\u001b[39;00m \u001b[38;5;28misinstance\u001b[39m(casted_key, \u001b[38;5;28mslice\u001b[39m) \u001b[38;5;129;01mor\u001b[39;00m (\n\u001b[1;32m   3808\u001b[0m         \u001b[38;5;28misinstance\u001b[39m(casted_key, abc\u001b[38;5;241m.\u001b[39mIterable)\n\u001b[1;32m   3809\u001b[0m         \u001b[38;5;129;01mand\u001b[39;00m \u001b[38;5;28many\u001b[39m(\u001b[38;5;28misinstance\u001b[39m(x, \u001b[38;5;28mslice\u001b[39m) \u001b[38;5;28;01mfor\u001b[39;00m x \u001b[38;5;129;01min\u001b[39;00m casted_key)\n\u001b[1;32m   3810\u001b[0m     ):\n\u001b[1;32m   3811\u001b[0m         \u001b[38;5;28;01mraise\u001b[39;00m InvalidIndexError(key)\n\u001b[0;32m-> 3812\u001b[0m     \u001b[38;5;28;01mraise\u001b[39;00m \u001b[38;5;167;01mKeyError\u001b[39;00m(key) \u001b[38;5;28;01mfrom\u001b[39;00m \u001b[38;5;21;01merr\u001b[39;00m\n\u001b[1;32m   3813\u001b[0m \u001b[38;5;28;01mexcept\u001b[39;00m \u001b[38;5;167;01mTypeError\u001b[39;00m:\n\u001b[1;32m   3814\u001b[0m     \u001b[38;5;66;03m# If we have a listlike key, _check_indexing_error will raise\u001b[39;00m\n\u001b[1;32m   3815\u001b[0m     \u001b[38;5;66;03m#  InvalidIndexError. Otherwise we fall through and re-raise\u001b[39;00m\n\u001b[1;32m   3816\u001b[0m     \u001b[38;5;66;03m#  the TypeError.\u001b[39;00m\n\u001b[1;32m   3817\u001b[0m     \u001b[38;5;28mself\u001b[39m\u001b[38;5;241m.\u001b[39m_check_indexing_error(key)\n",
      "\u001b[0;31mKeyError\u001b[0m: 'text'"
     ]
    }
   ],
   "source": [
    "from langchain_community.document_loaders import UnstructuredMarkdownLoader\n",
    "from langchain_community.document_loaders import DataFrameLoader\n",
    "import pandas as pd\n",
    "import numpy as np\n",
    "\n",
    "loader = UnstructuredMarkdownLoader(\"rag_data/Umich_FA2024_course_description.md\", mode=\"elements\")\n",
    "course_description_text = loader.load()\n",
    "df = pd.read_csv(\"rag_data/Umich_FA2024_course_schedule.csv\")\n",
    "# create a list of dfs grouped by Course Title\n",
    "dfs = [df[df[\"Course Title\"] == course] for course in df[\"Course Title\"].unique()]\n",
    "# create list of langchain documents\n",
    "loader = DataFrameLoader(dfs[2])\n",
    "course_schedule_text = loader.load()"
   ]
  },
  {
   "cell_type": "code",
   "execution_count": 120,
   "metadata": {},
   "outputs": [],
   "source": [
    "loader = DataFrameLoader(dfs[2], page_content_column='Course Title')\n",
    "course_schedule_text = loader.load()"
   ]
  },
  {
   "cell_type": "code",
   "execution_count": 121,
   "metadata": {},
   "outputs": [
    {
     "data": {
      "text/plain": [
       "[Document(metadata={'Term': 'Fall 2024', 'Session': 'Second 7 Week Session', 'Acad Group': 'Architecture & Urban Planning', 'Class Nbr': 27199, 'Subject': 'Architecture (ARCH)', 'Catalog Nbr': ' 252', 'Section': 1, 'Component': 'LAB', 'Codes': 'P RW', 'M': 'M', 'T': nan, 'W': 'W', 'TH': nan, 'F': nan, 'S': nan, 'SU': nan, 'Start Date': '10/21/2024', 'End Date': '12/09/2024', 'Time': '830-1130AM', 'Location': '2108 A&AB', 'Instructor': 'Harris', 'Units': '2.00', 'Unnamed: 23': nan}, page_content='Measuring'),\n",
       " Document(metadata={'Term': 'Fall 2024', 'Session': 'First 7 Week Session', 'Acad Group': 'Architecture & Urban Planning', 'Class Nbr': 32545, 'Subject': 'Architecture (ARCH)', 'Catalog Nbr': ' 252', 'Section': 2, 'Component': 'LAB', 'Codes': 'P  W', 'M': 'M', 'T': nan, 'W': 'W', 'TH': nan, 'F': nan, 'S': nan, 'SU': nan, 'Start Date': '08/26/2024', 'End Date': '10/18/2024', 'Time': '1-4PM', 'Location': 'ARR', 'Instructor': 'Harris', 'Units': '2.00', 'Unnamed: 23': nan}, page_content='Measuring')]"
      ]
     },
     "execution_count": 121,
     "metadata": {},
     "output_type": "execute_result"
    }
   ],
   "source": [
    "course_schedule_text"
   ]
  },
  {
   "cell_type": "code",
   "execution_count": 116,
   "metadata": {},
   "outputs": [
    {
     "data": {
      "text/plain": [
       "'          Term                   Session                     Acad Group  Class Nbr              Subject Catalog Nbr  Section        Course Title Component Codes    M    T    W   TH  F    S   SU  Start Date    End Date   Time   Location Instructor Units  Unnamed: 23\\n120  Fall 2024  Regular Academic Session  Architecture & Urban Planning      10046  Architecture (ARCH)         660        1  Thesis Res&Dev Sem       SEM  P R   NaN  NaN  NaN  NaN  F  NaN  NaN  08/26/2024  12/09/2024  1-4PM  2222 A&AB      Moran  3.00          NaN\\n121  Fall 2024  Regular Academic Session  Architecture & Urban Planning      19053  Architecture (ARCH)         660        4  Thesis Res&Dev Sem       SEM  P     NaN  NaN  NaN  NaN  F  NaN  NaN  08/26/2024  12/09/2024  1-4PM        ARR       Fure  3.00          NaN\\n122  Fall 2024  Regular Academic Session  Architecture & Urban Planning      19189  Architecture (ARCH)         660        5  Thesis Res&Dev Sem       SEM  P     NaN  NaN  NaN  NaN  F  NaN  NaN  08/26/2024  12/09/2024  1-4PM        ARR     Kulper  3.00          NaN\\n123  Fall 2024  Regular Academic Session  Architecture & Urban Planning      19190  Architecture (ARCH)         660        6  Thesis Res&Dev Sem       SEM  P     NaN  NaN  NaN  NaN  F  NaN  NaN  08/26/2024  12/09/2024  1-4PM  1360 A&AB  Mankouche  3.00          NaN\\n124  Fall 2024  Regular Academic Session  Architecture & Urban Planning      19191  Architecture (ARCH)         660        7  Thesis Res&Dev Sem       SEM  P     NaN  NaN  NaN  NaN  F  NaN  NaN  08/26/2024  12/09/2024  1-4PM        ARR    Roddier  3.00          NaN\\n125  Fall 2024  Regular Academic Session  Architecture & Urban Planning      22181  Architecture (ARCH)         660        9  Thesis Res&Dev Sem       SEM  P     NaN  NaN  NaN  NaN  F  NaN  NaN  08/26/2024  12/09/2024  1-4PM  2213 A&AB    Sanchez  3.00          NaN\\n126  Fall 2024  Regular Academic Session  Architecture & Urban Planning      29831  Architecture (ARCH)         660       11  Thesis Res&Dev Sem       SEM  P     NaN  NaN  NaN  NaN  F  NaN  NaN  08/26/2024  12/09/2024  1-4PM        ARR     Sirota  3.00          NaN\\n127  Fall 2024  Regular Academic Session  Architecture & Urban Planning      29875  Architecture (ARCH)         660       12  Thesis Res&Dev Sem       SEM  P     NaN  NaN  NaN  NaN  F  NaN  NaN  08/26/2024  12/09/2024  1-4PM  2210 A&AB    Velikov  3.00          NaN'"
      ]
     },
     "execution_count": 116,
     "metadata": {},
     "output_type": "execute_result"
    }
   ],
   "source": [
    "dfs[45].to_string()"
   ]
  },
  {
   "cell_type": "code",
   "execution_count": 60,
   "metadata": {},
   "outputs": [
    {
     "name": "stdout",
     "output_type": "stream",
     "text": [
      "Loaded course schedule\n"
     ]
    }
   ],
   "source": [
    "from langchain_community.document_loaders.csv_loader import CSVLoader\n",
    "# loading csv\n",
    "print(\"Course schedule...\", end=\"\\r\", flush=True)\n",
    "csv_loader = CSVLoader(file_path='rag_data/Umich_FA2024_course_schedule.csv'l, csv_args={  \n",
    "        'delimiter': ',',  \n",
    "        'quotechar': '\"',  \n",
    "        'fieldnames': ['Term','Session','Acad Group','Class Nbr','Subject','Catalog Nbr','Section','Course Title','Component','Codes','M','T','W','TH','F','S','SU','Start Date','End Date','Time','Location','Instructor','Units']})\n",
    "\n",
    "course_schedule_text = csv_loader.load()\n",
    "print(\"Loaded course schedule\")"
   ]
  },
  {
   "cell_type": "code",
   "execution_count": 117,
   "metadata": {},
   "outputs": [
    {
     "data": {
      "text/plain": [
       "Document(metadata={'source': 'rag_data/Umich_FA2024_course_schedule.csv', 'row': 9}, page_content='Term: Fall 2024\\nSession: First 7 Week Session\\nAcad Group: Architecture & Urban Planning\\nClass Nbr: 40003\\nSubject: Architecture (ARCH)\\nCatalog Nbr: 254\\nSection: 002\\nCourse Title: Projection\\nComponent: LAB\\nCodes: P  W\\nM: M\\nT: \\nW: W\\nTH: \\nF: \\nS: \\nSU: \\nStart Date: 08/26/2024\\nEnd Date: 10/18/2024\\nTime: 11-2PM\\nLocation: B100 MLB\\nInstructor: Mufreh\\nUnits: 2.00\\nNone: ')"
      ]
     },
     "execution_count": 117,
     "metadata": {},
     "output_type": "execute_result"
    }
   ],
   "source": [
    "course_schedule_text[9]\n",
    "# group by Course Title\n",
    "\n"
   ]
  },
  {
   "cell_type": "code",
   "execution_count": 47,
   "metadata": {},
   "outputs": [
    {
     "name": "stdout",
     "output_type": "stream",
     "text": [
      "Chunking text...\n"
     ]
    }
   ],
   "source": [
    "from langchain_text_splitters import RecursiveCharacterTextSplitter\n",
    "# chunking text\n",
    "print(\"Chunking text...\")\n",
    "pages = [course_description_text, degree_requirements_text, major_minor_description_text, subject_mapping_text, course_schedule_text]\n",
    "\n",
    "text_splitter = RecursiveCharacterTextSplitter(chunk_size=2000, chunk_overlap=400)\n",
    "course_description_chunks = text_splitter.split_documents(course_description_text)\n",
    "\n",
    "text_splitter = RecursiveCharacterTextSplitter(chunk_size=600, chunk_overlap=100)\n",
    "degree_requirements_chunks = text_splitter.split_documents(degree_requirements_text)\n",
    "\n",
    "text_splitter = RecursiveCharacterTextSplitter(chunk_size=2000, chunk_overlap=400)\n",
    "major_minor_description_chunks = text_splitter.split_documents(major_minor_description_text)\n",
    "\n",
    "text_splitter = RecursiveCharacterTextSplitter(chunk_size=150, chunk_overlap=30)\n",
    "subject_mapping_chunks = text_splitter.split_documents(subject_mapping_text)\n",
    "\n",
    "text_splitter = RecursiveCharacterTextSplitter(chunk_size=2000, chunk_overlap=400)\n",
    "course_schedule_chunks = text_splitter.split_documents(course_schedule_text)\n",
    "\n",
    "\n",
    "chunked_pages = []\n",
    "for page in pages:\n",
    "    chunks = text_splitter.split_documents(page)\n",
    "    chunked_pages.append(chunks)"
   ]
  },
  {
   "cell_type": "code",
   "execution_count": 48,
   "metadata": {},
   "outputs": [
    {
     "name": "stdout",
     "output_type": "stream",
     "text": [
      "Combining chunks...\n"
     ]
    }
   ],
   "source": [
    "# combining chunks\n",
    "print(\"Combining chunks...\")\n",
    "combined_chunks = []\n",
    "for page in chunked_pages:\n",
    "    combined_chunks.extend(page)"
   ]
  },
  {
   "cell_type": "code",
   "execution_count": 49,
   "metadata": {},
   "outputs": [
    {
     "data": {
      "text/plain": [
       "26200"
      ]
     },
     "execution_count": 49,
     "metadata": {},
     "output_type": "execute_result"
    }
   ],
   "source": [
    "len(combined_chunks)"
   ]
  },
  {
   "cell_type": "code",
   "execution_count": 17,
   "metadata": {},
   "outputs": [
    {
     "name": "stdout",
     "output_type": "stream",
     "text": [
      "batch size None\n"
     ]
    }
   ],
   "source": [
    "from langchain_chroma import Chroma\n",
    "from langchain_voyageai import VoyageAIEmbeddings\n",
    "import dotenv\n",
    "import chromadb\n",
    "from chromadb.config import DEFAULT_TENANT, DEFAULT_DATABASE, Settings\n",
    "\n",
    "\n",
    "dotenv.load_dotenv()\n",
    "new_client = chromadb.PersistentClient(path = \"./chroma_db\", tenant = DEFAULT_TENANT, database = DEFAULT_DATABASE, settings = Settings())\n",
    "\n",
    "embeddings = VoyageAIEmbeddings(\n",
    "    voyage_api_key=dotenv.get_key(dotenv_path= \".env\", key_to_get = \"VOYAGEAI_KEY\") , model=\"voyage-large-2-instruct\")\n",
    "\n",
    "vectorstore = Chroma.from_documents(documents=chunked_pages[0], embedding=embeddings, collection_name=\"umich_fa2024\", client=new_client)"
   ]
  },
  {
   "cell_type": "code",
   "execution_count": 25,
   "metadata": {},
   "outputs": [],
   "source": [
    "vector_store2 = Chroma(persist_directory=\"./chroma_db\", client=new_client, collection_name=\"umich_fa2024\", embedding_function=embeddings)\n",
    "retriever = vector_store2.as_retriever()"
   ]
  },
  {
   "cell_type": "code",
   "execution_count": 21,
   "metadata": {},
   "outputs": [
    {
     "data": {
      "text/plain": [
       "[Document(metadata={'page': 180, 'source': 'rag_data/Umich_FA2024_course_description.pdf'}, page_content='(http://www .lsa.umich.edu/cg/cg_results.aspx?\\ntermArray=x_xx_2470&cgtype=ug&show=20&department=EECS&catalog=270)  | FA 2023\\n(http://www .lsa.umich.edu/cg/cg_results.aspx?\\ntermArray=x_xx_2460&cgtype=ug&show=20&department=EECS&catalog=270)  | SP 2023\\n(http://www .lsa.umich.edu/cg/cg_results.aspx?\\ntermArray=x_xx_2430&cgtype=ug&show=20&department=EECS&catalog=270)  | WN 2023\\n(http://www .lsa.umich.edu/cg/cg_results.aspx?\\ntermArray=x_xx_2420&cgtype=ug&show=20&department=EECS&catalog=270)  | FA 2022\\n(http://www .lsa.umich.edu/cg/cg_results.aspx?\\ntermArray=x_xx_2410&cgtype=ug&show=20&department=EECS&catalog=270)\\nEECS 280. Programming and Introductory Data Structures\\nENGR 101 or 151 or EECS 180 or 183 or ROB 102;(C or better , No OP/F). And fewer than 2 previous elections of EECS\\n280 (incl. grades of W & I). (Prerequisites enforced at registration.) MA TH 1 15. (MSA). (BS). May not be repeated for credit.'),\n",
       " Document(metadata={'page': 177, 'source': 'rag_data/Umich_FA2024_course_description.pdf'}, page_content='FA 2024  (http://www .lsa.umich.edu/cg/cg_results.aspx?\\ntermArray=x_xx_2510&cgtype=ug&show=20&department=EECS&catalog=200)  | WN 2024\\n(http://www .lsa.umich.edu/cg/cg_results.aspx?\\ntermArray=x_xx_2470&cgtype=ug&show=20&department=EECS&catalog=200)  | FA 2023\\n(http://www .lsa.umich.edu/cg/cg_results.aspx?\\ntermArray=x_xx_2460&cgtype=ug&show=20&department=EECS&catalog=200)  | WN 2023\\n(http://www .lsa.umich.edu/cg/cg_results.aspx?\\ntermArray=x_xx_2420&cgtype=ug&show=20&department=EECS&catalog=200)  | FA 2022\\n(http://www .lsa.umich.edu/cg/cg_results.aspx?\\ntermArray=x_xx_2410&cgtype=ug&show=20&department=EECS&catalog=200)\\nEECS 201. Computer Science Pragmatics\\n[ENGR 101 or 151 or EECS 180 or 183 or ROB 102 or (preceded or accompanied by EECS 280 or 281)]; (C or better; No\\nOP/F). (Prerequisites enforced at registration.) (BS). May not be repeated for credit.\\nDesigned to teach the essentials of using a computer ef fectively . Topics covered include shells, environment, scripting,'),\n",
       " Document(metadata={'page': 204, 'source': 'rag_data/Umich_FA2024_course_description.pdf'}, page_content='(http://www .lsa.umich.edu/cg/cg_results.aspx?\\ntermArray=x_xx_2470&cgtype=ug&show=20&department=EECS&catalog=485)  | FA 2023\\n(http://www .lsa.umich.edu/cg/cg_results.aspx?\\ntermArray=x_xx_2460&cgtype=ug&show=20&department=EECS&catalog=485)  | SP 2023\\n(http://www .lsa.umich.edu/cg/cg_results.aspx?\\ntermArray=x_xx_2430&cgtype=ug&show=20&department=EECS&catalog=485)  | WN 2023\\n(http://www .lsa.umich.edu/cg/cg_results.aspx?\\ntermArray=x_xx_2420&cgtype=ug&show=20&department=EECS&catalog=485)  | FA 2022\\n(http://www .lsa.umich.edu/cg/cg_results.aspx?\\ntermArray=x_xx_2410&cgtype=ug&show=20&department=EECS&catalog=485)\\nEECS 486. Information Retrieval and W eb Search\\nEECS 281; (C or better , No OP/F) or Graduate Standing in CSE. Enrollment in one minor elective allowed for Computer\\nScience Minors. (Prerequisites enforced at registration.) (BS). May not be repeated for credit.\\nCovers background and recent advances in information retrieval (IR): indexing, processing, querying, classifying data. Basic'),\n",
       " Document(metadata={'page': 189, 'source': 'rag_data/Umich_FA2024_course_description.pdf'}, page_content='(http://www .lsa.umich.edu/cg/cg_results.aspx?\\ntermArray=x_xx_2470&cgtype=ug&show=20&department=EECS&catalog=399)  | FA 2023\\n(http://www .lsa.umich.edu/cg/cg_results.aspx?\\ntermArray=x_xx_2460&cgtype=ug&show=20&department=EECS&catalog=399)  | SU 2023\\n(http://www .lsa.umich.edu/cg/cg_results.aspx?\\ntermArray=x_xx_2450&cgtype=ug&show=20&department=EECS&catalog=399)  | SS 2023\\n(http://www .lsa.umich.edu/cg/cg_results.aspx?\\ntermArray=x_xx_2440&cgtype=ug&show=20&department=EECS&catalog=399)  | SP 2023\\n(http://www .lsa.umich.edu/cg/cg_results.aspx?\\ntermArray=x_xx_2430&cgtype=ug&show=20&department=EECS&catalog=399)  | WN 2023\\n(http://www .lsa.umich.edu/cg/cg_results.aspx?\\ntermArray=x_xx_2420&cgtype=ug&show=20&department=EECS&catalog=399)  | FA 2022\\n(http://www .lsa.umich.edu/cg/cg_results.aspx?\\ntermArray=x_xx_2410&cgtype=ug&show=20&department=EECS&catalog=399)\\nEECS 409. Data Science Seminar\\n(BS). May not be repeated for credit. This course has a grading basis of \"S\" or \"U\". (Non-LSA  credit).'),\n",
       " Document(metadata={'page': 180, 'source': 'rag_data/Umich_FA2024_course_description.pdf'}, page_content='(http://www .lsa.umich.edu/cg/cg_results.aspx?\\ntermArray=x_xx_2480&cgtype=ug&show=20&department=EECS&catalog=280)  | WN 2024\\n(http://www .lsa.umich.edu/cg/cg_results.aspx?\\ntermArray=x_xx_2470&cgtype=ug&show=20&department=EECS&catalog=280)  | FA 2023\\n(http://www .lsa.umich.edu/cg/cg_results.aspx?\\ntermArray=x_xx_2460&cgtype=ug&show=20&department=EECS&catalog=280)  | SP 2023\\n(http://www .lsa.umich.edu/cg/cg_results.aspx?\\ntermArray=x_xx_2430&cgtype=ug&show=20&department=EECS&catalog=280)  | WN 2023\\n(http://www .lsa.umich.edu/cg/cg_results.aspx?\\ntermArray=x_xx_2420&cgtype=ug&show=20&department=EECS&catalog=280)  | FA 2022\\n(http://www .lsa.umich.edu/cg/cg_results.aspx?\\ntermArray=x_xx_2410&cgtype=ug&show=20&department=EECS&catalog=280)7/26/24, 9:51 PM webapps.lsa.umich.edu/CrsMaint/Public/CB_PublicBulletin.aspx?crselevel=ug\\nhttps://webapps.lsa.umich.edu/CrsMaint/Public/CB_PublicBulletin.aspx?crselevel=ug 181/401'),\n",
       " Document(metadata={'page': 176, 'source': 'rag_data/Umich_FA2024_course_description.pdf'}, page_content='EECS 1 10. Discover Computer Science\\n(BS). May not be repeated for credit.\\nIntroduction to basic CS concepts (variables, conditionals, loops, functions) using an introductory programming language,\\nsuch a Python. Students interact with researchers and computing professionals to learn about real-world, interdisciplinary\\napplications of CS. Intended for students without prior programming experience to (optionally take prior to EECS 183 or\\nENGR 101.\\nFA 2024  (http://www .lsa.umich.edu/cg/cg_results.aspx?\\ntermArray=x_xx_2510&cgtype=ug&show=20&department=EECS&catalog=1 10) | WN 2024\\n(http://www .lsa.umich.edu/cg/cg_results.aspx?\\ntermArray=x_xx_2470&cgtype=ug&show=20&department=EECS&catalog=1 10) | FA 2023\\n(http://www .lsa.umich.edu/cg/cg_results.aspx?\\ntermArray=x_xx_2460&cgtype=ug&show=20&department=EECS&catalog=1 10) | WN 2023\\n(http://www .lsa.umich.edu/cg/cg_results.aspx?\\ntermArray=x_xx_2420&cgtype=ug&show=20&department=EECS&catalog=1 10) | FA 2022'),\n",
       " Document(metadata={'page': 205, 'source': 'rag_data/Umich_FA2024_course_description.pdf'}, page_content='(http://www .lsa.umich.edu/cg/cg_results.aspx?\\ntermArray=x_xx_2470&cgtype=ug&show=20&department=EECS&catalog=489)  | FA 2023\\n(http://www .lsa.umich.edu/cg/cg_results.aspx?\\ntermArray=x_xx_2460&cgtype=ug&show=20&department=EECS&catalog=489)  | WN 2023\\n(http://www .lsa.umich.edu/cg/cg_results.aspx?\\ntermArray=x_xx_2420&cgtype=ug&show=20&department=EECS&catalog=489)\\nEECS 490. Programming Languages\\nEECS 281; (C or better , No OP/F) or Graduate Standing in CSE. Enrollment in one minor elective allowed for Computer\\nScience Minors. (Prerequisites enforced at registration.) (BS). May not be repeated for credit. W .\\nProgramming languages are rich mathematical structures and powerful user interfaces. Students will learn about modern\\nlanguages from the perspective of both language designers and users, building up from mathematical first principles, and\\ncovering human factors in language design, language prototyping, and techniques for reasoning about program behavior .'),\n",
       " Document(metadata={'page': 176, 'source': 'rag_data/Umich_FA2024_course_description.pdf'}, page_content='(http://www .lsa.umich.edu/cg/cg_results.aspx?\\ntermArray=x_xx_2420&cgtype=ug&show=20&department=EECS&catalog=1 10) | FA 2022\\n(http://www .lsa.umich.edu/cg/cg_results.aspx?\\ntermArray=x_xx_2410&cgtype=ug&show=20&department=EECS&catalog=1 10)\\nEECS 183. Elementary Programming Concepts\\n(4). (MSA). (BS). (QR/1). May not be repeated for credit. Credit is granted for only one course among EECS 183 or ENGR\\n101. Credit is granted for only one of ENGR 151 and EECS 183. Not intended for Engineering students (who should take\\nENGR 101), nor for Computer Science majors in LSA  who qualify to enter EECS 280. F , W, Sp.\\nFundamental concepts and skills of programming in a high level language. Flow of control: selection, iteration, subprograms.\\nData structures: strings, arrays, records, lists, tables. Algorithms using selection and iteration (decision making, finding\\nmaxima/minima, searching, sorting, simulation, etc.). Good program design, structure, and style are emphasized. Testing'),\n",
       " Document(metadata={'page': 197, 'source': 'rag_data/Umich_FA2024_course_description.pdf'}, page_content='EECS 453. Principles of Machine Learning\\nEECS 280 and (ST ATS 250 or 280 or 412 or 426 or EECS 301 or IOE 265 or T O 301) and (EECS 351 or MA TH 214 or 217\\nor 296 or 417 or 419 or ROB 101); (C or better , No OP/F). (Prerequisites enforced at registration.) (BS). May not be\\nrepeated for credit. (Non-LSA  credit).\\nCovers fundamental principles of machine learning, including unsupervised learning (e.g., clustering, mixture models,\\ndimension reduction), supervised learning (e.g., regression, classification, neural networks and deep learning), and\\nreinforcement learning. For each topic, mathematical principles, key algorithmic ideas, and basic theoretical insights will be\\nhighlighted.\\nFA 2024  (http://www .lsa.umich.edu/cg/cg_results.aspx?\\ntermArray=x_xx_2510&cgtype=ug&show=20&department=EECS&catalog=453)  | FA 2023\\n(http://www .lsa.umich.edu/cg/cg_results.aspx?\\ntermArray=x_xx_2460&cgtype=ug&show=20&department=EECS&catalog=453)\\nEECS 455. W ireless Communication Systems'),\n",
       " Document(metadata={'page': 208, 'source': 'rag_data/Umich_FA2024_course_description.pdf'}, page_content='(http://www .lsa.umich.edu/cg/cg_results.aspx?\\ntermArray=x_xx_2470&cgtype=ug&show=20&department=EECS&catalog=497)  | FA 2023\\n(http://www .lsa.umich.edu/cg/cg_results.aspx?\\ntermArray=x_xx_2460&cgtype=ug&show=20&department=EECS&catalog=497)  | SP 2023\\n(http://www .lsa.umich.edu/cg/cg_results.aspx?\\ntermArray=x_xx_2430&cgtype=ug&show=20&department=EECS&catalog=497)  | WN 2023\\n(http://www .lsa.umich.edu/cg/cg_results.aspx?\\ntermArray=x_xx_2420&cgtype=ug&show=20&department=EECS&catalog=497)  | FA 2022\\n(http://www .lsa.umich.edu/cg/cg_results.aspx?\\ntermArray=x_xx_2410&cgtype=ug&show=20&department=EECS&catalog=497)\\nEECS 498. Special T opics\\nPermission of instructor . (1 - 4). (BS). May be repeated for credit.\\nTopics of current interest selected by faculty .\\nFA 2024  (http://www .lsa.umich.edu/cg/cg_results.aspx?\\ntermArray=x_xx_2510&cgtype=ug&show=20&department=EECS&catalog=498)  | SS 2024\\n(http://www .lsa.umich.edu/cg/cg_results.aspx?')]"
      ]
     },
     "execution_count": 21,
     "metadata": {},
     "output_type": "execute_result"
    }
   ],
   "source": [
    "docs"
   ]
  },
  {
   "cell_type": "code",
   "execution_count": 22,
   "metadata": {},
   "outputs": [],
   "source": [
    "retriever = vectorstore.as_retriever(search_type=\"similarity\", search_kwargs={\"k\": 6})\n",
    "retreived_docs = retriever.invoke(\"What time are EECS classes next semester?\")"
   ]
  },
  {
   "cell_type": "code",
   "execution_count": 23,
   "metadata": {},
   "outputs": [
    {
     "data": {
      "text/plain": [
       "[Document(metadata={'page': 179, 'source': 'rag_data/Umich_FA2024_course_description.pdf'}, page_content='(http://www .lsa.umich.edu/cg/cg_results.aspx?\\ntermArray=x_xx_2460&cgtype=ug&show=20&department=EECS&catalog=230)  | WN 2023\\n(http://www .lsa.umich.edu/cg/cg_results.aspx?\\ntermArray=x_xx_2420&cgtype=ug&show=20&department=EECS&catalog=230)  | FA 2022\\n(http://www .lsa.umich.edu/cg/cg_results.aspx?\\ntermArray=x_xx_2410&cgtype=ug&show=20&department=EECS&catalog=230)7/26/24, 9:51 PM webapps.lsa.umich.edu/CrsMaint/Public/CB_PublicBulletin.aspx?crselevel=ug\\nhttps://webapps.lsa.umich.edu/CrsMaint/Public/CB_PublicBulletin.aspx?crselevel=ug 180/401'),\n",
       " Document(metadata={'page': 191, 'source': 'rag_data/Umich_FA2024_course_description.pdf'}, page_content='(http://www .lsa.umich.edu/cg/cg_results.aspx?\\ntermArray=x_xx_2460&cgtype=ug&show=20&department=EECS&catalog=423)  | FA 2022\\n(http://www .lsa.umich.edu/cg/cg_results.aspx?\\ntermArray=x_xx_2410&cgtype=ug&show=20&department=EECS&catalog=423)7/26/24, 9:51 PM webapps.lsa.umich.edu/CrsMaint/Public/CB_PublicBulletin.aspx?crselevel=ug\\nhttps://webapps.lsa.umich.edu/CrsMaint/Public/CB_PublicBulletin.aspx?crselevel=ug 192/401'),\n",
       " Document(metadata={'page': 202, 'source': 'rag_data/Umich_FA2024_course_description.pdf'}, page_content='(http://www .lsa.umich.edu/cg/cg_results.aspx?\\ntermArray=x_xx_2420&cgtype=ug&show=20&department=EECS&catalog=482)  | FA 2022\\n(http://www .lsa.umich.edu/cg/cg_results.aspx?\\ntermArray=x_xx_2410&cgtype=ug&show=20&department=EECS&catalog=482)7/26/24, 9:51 PM webapps.lsa.umich.edu/CrsMaint/Public/CB_PublicBulletin.aspx?crselevel=ug\\nhttps://webapps.lsa.umich.edu/CrsMaint/Public/CB_PublicBulletin.aspx?crselevel=ug 203/401'),\n",
       " Document(metadata={'page': 206, 'source': 'rag_data/Umich_FA2024_course_description.pdf'}, page_content='(http://www .lsa.umich.edu/cg/cg_results.aspx?\\ntermArray=x_xx_2420&cgtype=ug&show=20&department=EECS&catalog=494)  | FA 2022\\n(http://www .lsa.umich.edu/cg/cg_results.aspx?\\ntermArray=x_xx_2410&cgtype=ug&show=20&department=EECS&catalog=494)7/26/24, 9:51 PM webapps.lsa.umich.edu/CrsMaint/Public/CB_PublicBulletin.aspx?crselevel=ug\\nhttps://webapps.lsa.umich.edu/CrsMaint/Public/CB_PublicBulletin.aspx?crselevel=ug 207/401'),\n",
       " Document(metadata={'page': 187, 'source': 'rag_data/Umich_FA2024_course_description.pdf'}, page_content='(http://www .lsa.umich.edu/cg/cg_results.aspx?\\ntermArray=x_xx_2420&cgtype=ug&show=20&department=EECS&catalog=376)  | FA 2022\\n(http://www .lsa.umich.edu/cg/cg_results.aspx?\\ntermArray=x_xx_2410&cgtype=ug&show=20&department=EECS&catalog=376)7/26/24, 9:51 PM webapps.lsa.umich.edu/CrsMaint/Public/CB_PublicBulletin.aspx?crselevel=ug\\nhttps://webapps.lsa.umich.edu/CrsMaint/Public/CB_PublicBulletin.aspx?crselevel=ug 188/401'),\n",
       " Document(metadata={'page': 181, 'source': 'rag_data/Umich_FA2024_course_description.pdf'}, page_content='(http://www .lsa.umich.edu/cg/cg_results.aspx?\\ntermArray=x_xx_2420&cgtype=ug&show=20&department=EECS&catalog=298)  | FA 2022\\n(http://www .lsa.umich.edu/cg/cg_results.aspx?\\ntermArray=x_xx_2410&cgtype=ug&show=20&department=EECS&catalog=298)7/26/24, 9:51 PM webapps.lsa.umich.edu/CrsMaint/Public/CB_PublicBulletin.aspx?crselevel=ug\\nhttps://webapps.lsa.umich.edu/CrsMaint/Public/CB_PublicBulletin.aspx?crselevel=ug 182/401')]"
      ]
     },
     "execution_count": 23,
     "metadata": {},
     "output_type": "execute_result"
    }
   ],
   "source": [
    "retreived_docs"
   ]
  },
  {
   "cell_type": "code",
   "execution_count": null,
   "metadata": {},
   "outputs": [],
   "source": [
    "import sqlite3\n",
    "\n",
    "conn = sqlite3.connect('chroma_db/chroma.sqlite3')\n",
    "c = conn.cursor()\n",
    "# show all tables\n",
    "c.execute(\"SELECT * FROM embeddings;\")\n",
    "c.fetchall()"
   ]
  },
  {
   "cell_type": "code",
   "execution_count": 44,
   "metadata": {},
   "outputs": [],
   "source": [
    "from langchain_anthropic import ChatAnthropic\n",
    "import bs4\n",
    "from langchain.chains import create_history_aware_retriever, create_retrieval_chain\n",
    "from langchain.chains.combine_documents import create_stuff_documents_chain\n",
    "from langchain_chroma import Chroma\n",
    "from langchain_community.chat_message_histories import ChatMessageHistory\n",
    "from langchain_community.document_loaders import WebBaseLoader\n",
    "from langchain_core.chat_history import BaseChatMessageHistory\n",
    "from langchain_core.prompts import ChatPromptTemplate, MessagesPlaceholder\n",
    "from langchain_core.runnables.history import RunnableWithMessageHistory\n",
    "from langchain_text_splitters import RecursiveCharacterTextSplitter\n",
    "\n",
    "llm = ChatAnthropic(temperature=0.7, model_name = \"claude-3-sonnet-20240229\", api_key=dotenv.get_key(dotenv_path= \".env\", key_to_get = \"ANTHROPIC_KEY\"))\n",
    "\n",
    "vector_store2 = Chroma(persist_directory=\"./chroma_db\", client=new_client, collection_name=\"umich_fa2024\", embedding_function=embeddings)\n",
    "retriever = vector_store2.as_retriever(search_type=\"similarity\", search_kwargs={\"k\": 10})\n",
    "\n",
    "def format_docs(docs):\n",
    "    return \"\\n\\n\".join(doc.page_content for doc in docs)\n",
    "\n",
    "# rag_chain = (\n",
    "#     {\"context\": retriever | format_docs, \"question\": RunnablePassthrough()}\n",
    "#     | prompt\n",
    "#     | llm\n",
    "#     | StrOutputParser()\n",
    "# )\n",
    "\n",
    "\n",
    "from langchain.chains import create_history_aware_retriever\n",
    "from langchain_core.prompts import ChatPromptTemplate, MessagesPlaceholder\n",
    "\n",
    "contextualize_q_system_prompt = \"\"\"Given a chat history and the latest user question \\\n",
    "which might reference context in the chat history, formulate a standalone question \\\n",
    "which can be understood without the chat history. Do NOT answer the question, \\\n",
    "just reformulate it if needed and otherwise return it as is.\"\"\"\n",
    "\n",
    "contextualize_q_prompt = ChatPromptTemplate.from_messages(\n",
    "    [\n",
    "        (\"system\", contextualize_q_system_prompt),\n",
    "        MessagesPlaceholder(\"chat_history\"),\n",
    "        (\"human\", \"{input}\"),\n",
    "    ]\n",
    ")\n",
    "history_aware_retriever = create_history_aware_retriever(\n",
    "    llm, retriever, contextualize_q_prompt\n",
    ")\n",
    "\n",
    "qa_system_prompt = \"\"\"Role and Purpose:\n",
    "You are LM Mentor, a knowledgeable and empathetic mentor, counselor, and companion designed to assist University of Michigan students in planning their academic journeys. Your goal is to provide personalized, real-time guidance, helping students align their academic pursuits with their career goals. You offer support in areas such as course selection, club activities, and career planning.\n",
    "\n",
    "Instructions for Interaction:\n",
    "\n",
    "\t•\tGreet and Engage: Start by greeting the student warmly and asking how you can assist them today.\n",
    "\t•\tGather Detailed Information: Ask a series of detailed questions to understand the student’s academic goals, interests, current courses, extracurricular activities, and any specific challenges they are facing.\n",
    "\t•\tUtilize Chat History and RAG Data: Leverage the chat history and retrieval-augmented generation (RAG) data to provide contextually relevant and up-to-date information in your responses.\n",
    "\t•\tStructured Information Display: Present the gathered information and your recommendations in a structured format, such as a chart or table.\n",
    "\t•\tProvide Personalized Guidance: Use the student’s responses and the RAG data to offer tailored advice on courses, extracurricular activities, and career paths.\n",
    "\t•\tEncourage and Support: Offer encouragement and positive reinforcement, helping students stay motivated and confident in their choices.\n",
    "\t•\tFollow-up Questions: Engage in follow-up questions to refine your advice and ensure the student’s needs are fully addressed.\n",
    "\t•\tSummarize and Plan: Summarize the conversation and suggest actionable next steps for the student to take.\n",
    "\n",
    "Example Interaction:\n",
    "\n",
    "Greeting:\n",
    "“Hello! I’m LM Mentor, your personal academic guide. How can I assist you today with your academic and career planning?”\n",
    "\n",
    "Questions to Ask:\n",
    "\n",
    "\t1.\t“What are your academic and career goals?”\n",
    "\t2.\t“Are there any specific courses or areas of study you are interested in?”\n",
    "\t3.\t“What courses are you currently enrolled in?”\n",
    "\t4.\t“Do you participate in any extracurricular activities or clubs?”\n",
    "\t5.\t“What challenges are you currently facing in your academic journey?”\n",
    "\t6.\t“Do you have any specific career aspirations or industries you are interested in?”\n",
    "\n",
    "Incorporating RAG Data:\n",
    "“Based on the information you’ve provided and the latest data from UMich, here is a summary of your current status and my recommendations:\n",
    "“Based on your interest in [field], I recommend considering courses like [Course A] and [Course B]. These will help you build a strong foundation in [subject]. Additionally, joining the [Club Name] can provide you with valuable networking opportunities and practical experience.”\n",
    "\n",
    "Encouragement:\n",
    "“You’re doing a great job! Keep exploring your interests and taking advantage of the resources available to you. Remember, every step you take brings you closer to your goals.”\n",
    "\n",
    "Follow-up Questions:\n",
    "“Would you like more information on any specific course or activity? Or perhaps advice on managing your time effectively?”\n",
    "\n",
    "Summary and Plan:\n",
    "“To summarize, focus on enrolling in [Course A] and [Course B], and join the [Club Name]. Keep in touch if you have any further questions or need more guidance. Good luck!”\n",
    "\n",
    "{context}\"\"\"\n",
    "\n",
    "qa_prompt = ChatPromptTemplate.from_messages(\n",
    "    [\n",
    "        (\"system\", qa_system_prompt),\n",
    "        MessagesPlaceholder(\"chat_history\"),\n",
    "        (\"human\", \"{input}\"),\n",
    "    ]\n",
    ")\n",
    "question_answer_chain = create_stuff_documents_chain(llm, qa_prompt)\n",
    "\n",
    "rag_chain = create_retrieval_chain(history_aware_retriever, question_answer_chain)\n",
    "\n",
    "store = {}\n",
    "\n",
    "\n",
    "def get_session_history(session_id: str) -> BaseChatMessageHistory:\n",
    "    if session_id not in store:\n",
    "        store[session_id] = ChatMessageHistory()\n",
    "    return store[session_id]\n",
    "\n",
    "\n",
    "conversational_rag_chain = RunnableWithMessageHistory(\n",
    "    rag_chain,\n",
    "    get_session_history,\n",
    "    input_messages_key=\"input\",\n",
    "    history_messages_key=\"chat_history\",\n",
    "    output_messages_key=\"answer\",\n",
    ")\n",
    "\n",
    "reponse = conversational_rag_chain.invoke(\n",
    "    {\"input\": \"What EECS classes to take next semester?\"},\n",
    "    config={\n",
    "        \"configurable\": {\"session_id\": \"abc123\"}\n",
    "    },  # constructs a key \"abc123\" in `store`.\n",
    ")[\"answer\"]"
   ]
  },
  {
   "cell_type": "code",
   "execution_count": 45,
   "metadata": {},
   "outputs": [
    {
     "data": {
      "text/plain": [
       "\"To provide personalized recommendations on which EECS classes to take next semester, I'll need to ask you some questions to better understand your academic goals, interests, and current standing. Here are some questions that would be helpful:\\n\\n1. What is your current year/level (freshman, sophomore, junior, senior)?\\n2. What is your intended major/program of study? \\n3. Have you already declared your major in EECS or a related field?\\n4. What EECS courses have you completed so far?\\n5. Are there any particular areas within EECS that you're most interested in (e.g. computer science, computer engineering, data science, etc.)?\\n6. Do you have any specific career goals you're working towards?\\n7. Are you looking to take primarily major requirements, electives, or a mix next semester?\\n\\nGetting details on your background, completed coursework, interests, and goals will allow me to suggest EECS courses that best align with your academic plan and aspirations. Please provide as much relevant information as possible so I can make tailored recommendations.\""
      ]
     },
     "execution_count": 45,
     "metadata": {},
     "output_type": "execute_result"
    }
   ],
   "source": [
    "reponse"
   ]
  }
 ],
 "metadata": {
  "kernelspec": {
   "display_name": "lm_mentor",
   "language": "python",
   "name": "python3"
  },
  "language_info": {
   "codemirror_mode": {
    "name": "ipython",
    "version": 3
   },
   "file_extension": ".py",
   "mimetype": "text/x-python",
   "name": "python",
   "nbconvert_exporter": "python",
   "pygments_lexer": "ipython3",
   "version": "3.9.19"
  }
 },
 "nbformat": 4,
 "nbformat_minor": 2
}
