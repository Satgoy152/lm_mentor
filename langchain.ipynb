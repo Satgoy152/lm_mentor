{
 "cells": [
  {
   "cell_type": "code",
   "execution_count": null,
   "metadata": {},
   "outputs": [],
   "source": [
    "# Plan for backend development:\n",
    "\n",
    "# 1. Create a new virtual environment\n",
    "# 2. Install and load langchain\n",
    "# 3. Load anthropic model, add system prompts\n",
    "# 4. Call UMich APIs to get student information\n",
    "# 5. Chunk and embed student information\n",
    "# 6. Save in vectordb\n",
    "# 7. Get user input prompt\n",
    "# 8. Query vectordb for similar student information\n",
    "# 9. Send data to langchain to generate response\n",
    "# 10. Return response to user"
   ]
  },
  {
   "cell_type": "code",
   "execution_count": null,
   "metadata": {},
   "outputs": [],
   "source": [
    "import openai\n",
    "from langsmith.wrappers import wrap_openai\n",
    "from langsmith import traceable\n",
    "\n",
    "# Auto-trace LLM calls in-context\n",
    "client = wrap_openai(openai.Client())\n",
    "\n",
    "@traceable # Auto-trace this function\n",
    "def pipeline(user_input: str):\n",
    "    result = client.chat.completions.create(\n",
    "        messages=[{\"role\": \"user\", \"content\": user_input}],\n",
    "        model=\"gpt-3.5-turbo\"\n",
    "    )\n",
    "    return result.choices[0].message.content\n",
    "\n",
    "pipeline(\"Hello, world!\")\n",
    "# Out:  Hello there! How can I assist you today?"
   ]
  }
 ],
 "metadata": {
  "language_info": {
   "name": "python"
  }
 },
 "nbformat": 4,
 "nbformat_minor": 2
}
