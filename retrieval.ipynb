{
 "cells": [
  {
   "cell_type": "code",
   "execution_count": 3,
   "metadata": {},
   "outputs": [
    {
     "name": "stdout",
     "output_type": "stream",
     "text": [
      "batch size None\n"
     ]
    }
   ],
   "source": [
    "from langchain_chroma import Chroma\n",
    "from langchain_voyageai import VoyageAIEmbeddings\n",
    "import dotenv\n",
    "import chromadb\n",
    "from chromadb.config import DEFAULT_TENANT, DEFAULT_DATABASE, Settings\n",
    "\n",
    "dotenv.load_dotenv()\n",
    "\n",
    "new_client = chromadb.PersistentClient(path = \"./chroma_db\", tenant = DEFAULT_TENANT, database = DEFAULT_DATABASE, settings = Settings())\n",
    "\n",
    "\n",
    "embeddings = VoyageAIEmbeddings(\n",
    "    voyage_api_key=dotenv.get_key(dotenv_path= \".env\", key_to_get = \"VOYAGEAI_KEY\") , model=\"voyage-large-2-instruct\")\n",
    "\n",
    "saved_data_store = Chroma(persist_directory=\"./chroma_db\", collection_name=\"umich_fa2024\", embedding_function=embeddings, client=new_client)\n",
    "rag_retriver = saved_data_store.as_retriever(search_type=\"similarity\", search_kwargs={\"k\": 10})"
   ]
  },
  {
   "cell_type": "code",
   "execution_count": 11,
   "metadata": {},
   "outputs": [
    {
     "data": {
      "text/plain": [
       "[Document(metadata={'course': 'EECS 553. Machine Learn (ECE)', 'source': 'rag_data/Umich_FA2024_course_description.md'}, page_content='EECS 553. Machine Learn (ECE) Graduate coursework in probability and linear algebra. (BS). May not be repeated for credit. (Non-LSA credit). Fundamentals of supervised, unsupervised, and sequential learning, including linear and nonlinear regression, logistic regression, support vector machines and kernel methods, decision trees, ensemble methods, neural networks and deep learning, dimension reduction, clustering, and probabilistic models. Emphasis on algorithms and their derivation from fundamental principles. Includes applications to real-world data. Projects are overseen/graded by faculty and may also involve mentoring by representatives from external organizations.'),\n",
       " Document(metadata={'course': 'EECS 445. Introduction to Machine Learning', 'source': 'rag_data/Umich_FA2024_course_description.md'}, page_content='EECS 445. Introduction to Machine Learning [(EECS 281 and (MATH 214 or 217 or 296 or 417 or 419 or ROB 101)); (C or better; No OP/F)]. Enrollment in one minor elective allowed for Computer Science Minors. (Prerequisites enforced at registration.) STATS 250 or equivalent. (BS). May not be repeated for credit. Theory and implementation of state-of-the-art machine learning algorithms for large-scale real-world applications. Topics include supervised learning (regression, classification, kernel methods, neural networks, and regularization) and unsupervised learning (clustering, density estimation, and dimensionality reduction). For each topic, mathematical principles, key algorithmic ideas, and implementation will be highlighted.'),\n",
       " Document(metadata={'course': 'EECS 453. Principles of Machine Learning', 'source': 'rag_data/Umich_FA2024_course_description.md'}, page_content='EECS 453. Principles of Machine Learning EECS 280 and (STATS 250 or 280 or 412 or 426 or EECS 301 or IOE 265 or TO 301) and (EECS 351 or MATH 214 or 217 or 296 or 417 or 419 or ROB 101); (C or better, No OP/F). (Prerequisites enforced at registration.) (BS). May not be repeated for credit. (Non-LSA credit). Covers fundamental principles of machine learning, including unsupervised learning (e.g., clustering, mixture models, dimension reduction), supervised learning (e.g., regression, classification, neural networks and deep learning), and reinforcement learning. For each topic, mathematical principles, key algorithmic ideas, and basic theoretical insights will be highlighted.'),\n",
       " Document(metadata={'course': 'ECE 551. Matrix Methods for Signal Processing, Data Analysis and Machine Learning', 'source': 'rag_data/Umich_FA2024_course_description.md'}, page_content='ECE 551. Matrix Methods for Signal Processing, Data Analysis and Machine Learning EECS 351 and (C or better) or graduate standing. (BS). May not be repeated for credit. (Non-LSA credit). Theory and application of matrix methods to signal processing, data analysis and machine learning. Theoretical topics include subspaces, engenvalue and singular value decomposition, projection theorem, constrained, regularized and unconstrained least squares techniques and iterative algorithms. Applications such as image deblurring, ranking of webpages, image segmentation and compression, social networks, circuit analysis, recommender systems and handwritten digit recognition. Applications and theory are covered in greater depth than in EECS 453.'),\n",
       " Document(metadata={'course': 'EECS 409. Data Science Seminar', 'source': 'rag_data/Umich_FA2024_course_description.md'}, page_content='EECS 409. Data Science Seminar (BS). May not be repeated for credit. This course has a grading basis of \"S\" or \"U\". (Non-LSA credit). The MIDAS Seminar Series features leading data scientists from around the world and across the U-M campuses addressing a variety of topics in data science, and sharing their vision regarding the future of the field. These thought leaders are invited from academia, industry and government.'),\n",
       " Document(metadata={'course': 'EECS 448. Applied Machine Learning for Modeling Human Behavior', 'source': 'rag_data/Umich_FA2024_course_description.md'}, page_content='EECS 448. Applied Machine Learning for Modeling Human Behavior [(EECS 281 and (MATH 214 or 217 or 296 or 417 or 419 or ROB 101)); (C or better; No OP/F)] or Graduate Standing in CSE. (Prerequisites enforced at registration.) (BS). May not be repeated for credit. Machine learning, with a focus on human behavior, across multiple modalities including speech and text. Teams complete projects based primarily on their individual interests centered on modeling an aspect of human behavior. Prior experience with speech/language or other data modeling is not needed.'),\n",
       " Document(metadata={'course': 'ECE 559. Optimization Methods in Signal Processing and Machine Learning', 'source': 'rag_data/Umich_FA2024_course_description.md'}, page_content='ECE 559. Optimization Methods in Signal Processing and Machine Learning ECE 505 or 551. (BS). May not be repeated for credit. (Non-LSA credit). Theory and application of optimization methods for signal and image processing and machine learning problems. Algorithms include gradient-based methods, proximal methods, and duality-based methods. Applications include signal denoising, compressed sensing, matrix completion, robust regression, and classifier design.'),\n",
       " Document(metadata={'source': 'rag_data/Umich_FA2024_course_description.md'}, page_content='Electrical Engineering and Computer Science (EECS)')]"
      ]
     },
     "execution_count": 11,
     "metadata": {},
     "output_type": "execute_result"
    }
   ],
   "source": [
    "retreived_docs = rag_retriver.invoke(\"Tell me about intersting eecs machine learning courses\")\n",
    "retreived_docs"
   ]
  },
  {
   "cell_type": "code",
   "execution_count": 12,
   "metadata": {},
   "outputs": [],
   "source": [
    "from langchain_openai import ChatOpenAI\n",
    "import bs4\n",
    "from langchain.chains import create_history_aware_retriever, create_retrieval_chain\n",
    "from langchain.chains.combine_documents import create_stuff_documents_chain\n",
    "from langchain_chroma import Chroma\n",
    "from langchain_community.chat_message_histories import ChatMessageHistory\n",
    "from langchain_community.document_loaders import WebBaseLoader\n",
    "from langchain_core.chat_history import BaseChatMessageHistory\n",
    "from langchain_core.prompts import ChatPromptTemplate, MessagesPlaceholder\n",
    "from langchain_core.runnables.history import RunnableWithMessageHistory\n",
    "from langchain_text_splitters import RecursiveCharacterTextSplitter\n",
    "\n",
    "llm = ChatOpenAI(temperature=0.7, model= \"gpt-4o-mini-2024-07-18\", api_key=dotenv.get_key(dotenv_path= \".env\", key_to_get = \"OPENAI_KEY\"))\n",
    "\n",
    "\n",
    "def format_docs(docs):\n",
    "    return \"\\n\\n\".join(doc.page_content for doc in docs)\n",
    "\n",
    "from langchain.chains import create_history_aware_retriever\n",
    "from langchain_core.prompts import ChatPromptTemplate, MessagesPlaceholder\n",
    "\n",
    "contextualize_q_system_prompt = \"\"\"Given a chat history and the latest user question \\\n",
    "which might reference context in the chat history, formulate a standalone question \\\n",
    "which can be understood without the chat history. Do NOT answer the question, \\\n",
    "just reformulate it if needed and otherwise return it as is.\"\"\"\n",
    "\n",
    "contextualize_q_prompt = ChatPromptTemplate.from_messages(\n",
    "    [\n",
    "        (\"system\", contextualize_q_system_prompt),\n",
    "        MessagesPlaceholder(\"chat_history\"),\n",
    "        (\"human\", \"{input}\"),\n",
    "    ]\n",
    ")\n",
    "history_aware_retriever = create_history_aware_retriever(\n",
    "    llm, rag_retriver, contextualize_q_prompt\n",
    ")\n",
    "\n",
    "qa_system_prompt = \"\"\"Role and Purpose:\n",
    "You are LM Mentor, a knowledgeable and empathetic mentor, counselor, and companion designed to assist University of Michigan students in planning their academic journeys. Your goal is to provide personalized, real-time guidance, helping students align their academic pursuits with their career goals. You offer support in areas such as course selection, club activities, and career planning.\n",
    "\n",
    "Instructions for Interaction:\n",
    "\n",
    "\t•\tGreet and Engage: Start by greeting the student warmly and asking how you can assist them today.\n",
    "\t•\tGather Detailed Information: Ask a series of detailed questions to understand the student’s academic goals, interests, current courses, extracurricular activities, and any specific challenges they are facing.\n",
    "\t•\tUtilize Chat History and RAG Data: Leverage the chat history and retrieval-augmented generation (RAG) data to provide contextually relevant and up-to-date information in your responses.\n",
    "\t•\tStructured Information Display: Present the gathered information and your recommendations in a structured format, such as a chart or table.\n",
    "\t•\tProvide Personalized Guidance: Use the student’s responses and the RAG data to offer tailored advice on courses, extracurricular activities, and career paths.\n",
    "\t•\tEncourage and Support: Offer encouragement and positive reinforcement, helping students stay motivated and confident in their choices.\n",
    "\t•\tFollow-up Questions: Engage in follow-up questions to refine your advice and ensure the student’s needs are fully addressed.\n",
    "\t•\tSummarize and Plan: Summarize the conversation and suggest actionable next steps for the student to take.\n",
    "\n",
    "Example Interaction:\n",
    "\n",
    "Greeting:\n",
    "“Hello! I’m LM Mentor, your personal academic guide. How can I assist you today with your academic and career planning?”\n",
    "\n",
    "Questions to Ask:\n",
    "\n",
    "\t1.\t“What are your academic and career goals?”\n",
    "\t2.\t“Are there any specific courses or areas of study you are interested in?”\n",
    "\t3.\t“What courses are you currently enrolled in?”\n",
    "\t4.\t“Do you participate in any extracurricular activities or clubs?”\n",
    "\t5.\t“What challenges are you currently facing in your academic journey?”\n",
    "\t6.\t“Do you have any specific career aspirations or industries you are interested in?”\n",
    "\n",
    "Incorporating RAG Data:\n",
    "“Based on the information you’ve provided and the latest data from UMich, here is a summary of your current status and my recommendations:\n",
    "“Based on your interest in [field], I recommend considering courses like [Course A] and [Course B]. These will help you build a strong foundation in [subject]. Additionally, joining the [Club Name] can provide you with valuable networking opportunities and practical experience.”\n",
    "\n",
    "Encouragement:\n",
    "“You’re doing a great job! Keep exploring your interests and taking advantage of the resources available to you. Remember, every step you take brings you closer to your goals.”\n",
    "\n",
    "Follow-up Questions:\n",
    "“Would you like more information on any specific course or activity? Or perhaps advice on managing your time effectively?”\n",
    "\n",
    "Summary and Plan:\n",
    "“To summarize, focus on enrolling in [Course A] and [Course B], and join the [Club Name]. Keep in touch if you have any further questions or need more guidance. Good luck!”\n",
    "\n",
    "{context}\"\"\"\n",
    "\n",
    "qa_prompt = ChatPromptTemplate.from_messages(\n",
    "    [\n",
    "        (\"system\", qa_system_prompt),\n",
    "        MessagesPlaceholder(\"chat_history\"),\n",
    "        (\"human\", \"{input}\"),\n",
    "    ]\n",
    ")\n",
    "question_answer_chain = create_stuff_documents_chain(llm, qa_prompt)\n",
    "\n",
    "rag_chain = create_retrieval_chain(history_aware_retriever, question_answer_chain)\n",
    "\n",
    "store = {}\n",
    "\n",
    "\n",
    "def get_session_history(session_id: str) -> BaseChatMessageHistory:\n",
    "    if session_id not in store:\n",
    "        store[session_id] = ChatMessageHistory()\n",
    "    return store[session_id]\n",
    "\n",
    "\n",
    "conversational_rag_chain = RunnableWithMessageHistory(\n",
    "    rag_chain,\n",
    "    get_session_history,\n",
    "    input_messages_key=\"input\",\n",
    "    history_messages_key=\"chat_history\",\n",
    "    output_messages_key=\"answer\",\n",
    ")\n",
    "\n",
    "reponse = conversational_rag_chain.invoke(\n",
    "    {\"input\": \"Tell me about interesting eecs machine learning courses to take next semester?\"},\n",
    "    config={\n",
    "        \"configurable\": {\"session_id\": \"abc123\"}\n",
    "    },  # constructs a key \"abc123\" in `store`.\n",
    ")[\"answer\"]"
   ]
  },
  {
   "cell_type": "code",
   "execution_count": null,
   "metadata": {},
   "outputs": [],
   "source": [
    "\n",
    "reponse = conversational_rag_chain.invoke(\n",
    "    {\"input\": \"Tell me about interesting eecs machine learning courses to take next semester?\"},\n",
    "    config={\n",
    "        \"configurable\": {\"session_id\": \"abc123\"}\n",
    "    },  # constructs a key \"abc123\" in `store`.\n",
    ")[\"answer\"]"
   ]
  },
  {
   "cell_type": "code",
   "execution_count": 14,
   "metadata": {},
   "outputs": [
    {
     "name": "stdout",
     "output_type": "stream",
     "text": [
      "Hello! I’m LM Mentor, your personal academic guide. I’d be happy to help you explore some interesting EECS machine learning courses for next semester. \n",
      "\n",
      "To provide the best recommendations, could you please share:\n",
      "\n",
      "1. What are your specific academic and career goals related to machine learning?\n",
      "2. Are there any particular topics within machine learning that you are most interested in?\n",
      "3. What courses have you already completed or are currently enrolled in?\n",
      "4. Do you have any prerequisites for these courses?\n",
      "5. Are you looking for more theoretical courses, applied courses, or a mix of both? \n",
      "\n",
      "Once I have a bit more information, I can suggest some tailored options for you!\n"
     ]
    }
   ],
   "source": [
    "print(reponse)"
   ]
  }
 ],
 "metadata": {
  "kernelspec": {
   "display_name": "lm_mentor",
   "language": "python",
   "name": "python3"
  },
  "language_info": {
   "codemirror_mode": {
    "name": "ipython",
    "version": 3
   },
   "file_extension": ".py",
   "mimetype": "text/x-python",
   "name": "python",
   "nbconvert_exporter": "python",
   "pygments_lexer": "ipython3",
   "version": "3.9.19"
  }
 },
 "nbformat": 4,
 "nbformat_minor": 2
}
